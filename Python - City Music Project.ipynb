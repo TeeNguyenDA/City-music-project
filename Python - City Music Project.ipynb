{
 "cells": [
  {
   "cell_type": "markdown",
   "metadata": {
    "id": "fhq_eyov_Zcs"
   },
   "source": [
    "# Contents <a id='back'></a>\n",
    "\n",
    "* [Introduction](#intro)\n",
    "* [Stage 1. Data overview](#data_review)\n",
    "    * [Conclusions](#data_review_conclusions)\n",
    "* [Stage 2. Data preprocessing](#data_preprocessing)\n",
    "    * [2.1 Header style](#header_style)\n",
    "    * [2.2 Missing values](#missing_values)\n",
    "    * [2.3 Duplicates](#duplicates)\n",
    "    * [2.4 Conclusions](#data_preprocessing_conclusions)\n",
    "* [Stage 3. Testing the hypotheses](#hypotheses)\n",
    "    * [3.1 Hypothesis 1: user activity in the two cities](#activity)\n",
    "    * [3.2 Hypothesis 2: music preferences on Monday and Friday](#week)\n",
    "    * [3.3 Hypothesis 3: genre preferences in Springfield and Shelbyville](#genre)\n",
    "* [Findings](#end)"
   ]
  },
  {
   "cell_type": "markdown",
   "metadata": {
    "id": "VUC88oWjTJw2"
   },
   "source": [
    "## Introduction <a id='intro'></a>\n",
    "Whenever we're doing research, we need to formulate hypotheses that we can then test. Sometimes we accept these hypotheses; other times, we reject them. To make the right decisions, a business must be able to understand whether or not it's making the right assumptions.\n",
    "\n",
    "In this project, we'll compare the music preferences of the cities of Springfield and Shelbyville. We'll use data to test the hypotheses below and compare user behavior for these two cities.\n",
    "\n",
    "### Goal: \n",
    "Test three hypotheses:\n",
    "1. User activity differs depending on the day of the week and from city to city. \n",
    "2. On Monday mornings, Springfield and Shelbyville residents listen to different genres. This is also true for Friday evenings. \n",
    "3. Springfield and Shelbyville listeners have different preferences. In Springfield, they prefer pop, while Shelbyville has more rap fans.\n",
    "\n",
    "### Stages \n",
    "The project will consist of three stages:\n",
    " 1. Data overview\n",
    " 2. Data preprocessing\n",
    " 3. Testing the hypotheses\n",
    " \n",
    "[Back to Contents](#back)"
   ]
  },
  {
   "cell_type": "markdown",
   "metadata": {
    "id": "Ml1hmfXC_Zcs"
   },
   "source": [
    "## Stage 1. Data overview <a id='data_review'></a>\n",
    "\n",
    "Open the data and explore it."
   ]
  },
  {
   "cell_type": "code",
   "execution_count": 1,
   "metadata": {
    "id": "AXN7PHPN_Zcs"
   },
   "outputs": [],
   "source": [
    "# importing pandas\n",
    "\n",
    "import pandas as pd"
   ]
  },
  {
   "cell_type": "markdown",
   "metadata": {
    "id": "SG23P8tt_Zcs"
   },
   "source": [
    "Read the file `music_project_en.csv` from the `/datasets/` folder and save it in the `df` variable:"
   ]
  },
  {
   "cell_type": "code",
   "execution_count": 2,
   "metadata": {
    "id": "fFVu7vqh_Zct"
   },
   "outputs": [
    {
     "data": {
      "text/html": [
       "<div>\n",
       "<style scoped>\n",
       "    .dataframe tbody tr th:only-of-type {\n",
       "        vertical-align: middle;\n",
       "    }\n",
       "\n",
       "    .dataframe tbody tr th {\n",
       "        vertical-align: top;\n",
       "    }\n",
       "\n",
       "    .dataframe thead th {\n",
       "        text-align: right;\n",
       "    }\n",
       "</style>\n",
       "<table border=\"1\" class=\"dataframe\">\n",
       "  <thead>\n",
       "    <tr style=\"text-align: right;\">\n",
       "      <th></th>\n",
       "      <th>userID</th>\n",
       "      <th>Track</th>\n",
       "      <th>artist</th>\n",
       "      <th>genre</th>\n",
       "      <th>City</th>\n",
       "      <th>time</th>\n",
       "      <th>Day</th>\n",
       "    </tr>\n",
       "  </thead>\n",
       "  <tbody>\n",
       "    <tr>\n",
       "      <th>count</th>\n",
       "      <td>65079</td>\n",
       "      <td>63736</td>\n",
       "      <td>57512</td>\n",
       "      <td>63881</td>\n",
       "      <td>65079</td>\n",
       "      <td>65079</td>\n",
       "      <td>65079</td>\n",
       "    </tr>\n",
       "    <tr>\n",
       "      <th>unique</th>\n",
       "      <td>41747</td>\n",
       "      <td>39664</td>\n",
       "      <td>37806</td>\n",
       "      <td>268</td>\n",
       "      <td>2</td>\n",
       "      <td>20392</td>\n",
       "      <td>3</td>\n",
       "    </tr>\n",
       "    <tr>\n",
       "      <th>top</th>\n",
       "      <td>A8AE9169</td>\n",
       "      <td>Brand</td>\n",
       "      <td>Kartvelli</td>\n",
       "      <td>pop</td>\n",
       "      <td>Springfield</td>\n",
       "      <td>21:51:22</td>\n",
       "      <td>Friday</td>\n",
       "    </tr>\n",
       "    <tr>\n",
       "      <th>freq</th>\n",
       "      <td>76</td>\n",
       "      <td>136</td>\n",
       "      <td>136</td>\n",
       "      <td>8850</td>\n",
       "      <td>45360</td>\n",
       "      <td>14</td>\n",
       "      <td>23149</td>\n",
       "    </tr>\n",
       "  </tbody>\n",
       "</table>\n",
       "</div>"
      ],
      "text/plain": [
       "          userID  Track     artist  genre       City        time     Day\n",
       "count      65079  63736      57512  63881        65079     65079   65079\n",
       "unique     41747  39664      37806    268            2     20392       3\n",
       "top     A8AE9169  Brand  Kartvelli    pop  Springfield  21:51:22  Friday\n",
       "freq          76    136        136   8850        45360        14   23149"
      ]
     },
     "execution_count": 2,
     "metadata": {},
     "output_type": "execute_result"
    }
   ],
   "source": [
    "# reading the file and storing it to df\n",
    "\n",
    "try: \n",
    "    df = pd.read_csv('music_project_en.csv')\n",
    "except:\n",
    "    df = pd.read_csv('/datasets/music_project_en.csv')\n",
    "\n",
    "df.describe()"
   ]
  },
  {
   "cell_type": "markdown",
   "metadata": {
    "id": "rDoOMd3uTqnZ"
   },
   "source": [
    "Print the first 10 table rows:"
   ]
  },
  {
   "cell_type": "code",
   "execution_count": 3,
   "metadata": {
    "id": "oWTVX3gW_Zct"
   },
   "outputs": [
    {
     "data": {
      "text/html": [
       "<div>\n",
       "<style scoped>\n",
       "    .dataframe tbody tr th:only-of-type {\n",
       "        vertical-align: middle;\n",
       "    }\n",
       "\n",
       "    .dataframe tbody tr th {\n",
       "        vertical-align: top;\n",
       "    }\n",
       "\n",
       "    .dataframe thead th {\n",
       "        text-align: right;\n",
       "    }\n",
       "</style>\n",
       "<table border=\"1\" class=\"dataframe\">\n",
       "  <thead>\n",
       "    <tr style=\"text-align: right;\">\n",
       "      <th></th>\n",
       "      <th>userID</th>\n",
       "      <th>Track</th>\n",
       "      <th>artist</th>\n",
       "      <th>genre</th>\n",
       "      <th>City</th>\n",
       "      <th>time</th>\n",
       "      <th>Day</th>\n",
       "    </tr>\n",
       "  </thead>\n",
       "  <tbody>\n",
       "    <tr>\n",
       "      <th>0</th>\n",
       "      <td>FFB692EC</td>\n",
       "      <td>Kamigata To Boots</td>\n",
       "      <td>The Mass Missile</td>\n",
       "      <td>rock</td>\n",
       "      <td>Shelbyville</td>\n",
       "      <td>20:28:33</td>\n",
       "      <td>Wednesday</td>\n",
       "    </tr>\n",
       "    <tr>\n",
       "      <th>1</th>\n",
       "      <td>55204538</td>\n",
       "      <td>Delayed Because of Accident</td>\n",
       "      <td>Andreas Rönnberg</td>\n",
       "      <td>rock</td>\n",
       "      <td>Springfield</td>\n",
       "      <td>14:07:09</td>\n",
       "      <td>Friday</td>\n",
       "    </tr>\n",
       "    <tr>\n",
       "      <th>2</th>\n",
       "      <td>20EC38</td>\n",
       "      <td>Funiculì funiculà</td>\n",
       "      <td>Mario Lanza</td>\n",
       "      <td>pop</td>\n",
       "      <td>Shelbyville</td>\n",
       "      <td>20:58:07</td>\n",
       "      <td>Wednesday</td>\n",
       "    </tr>\n",
       "    <tr>\n",
       "      <th>3</th>\n",
       "      <td>A3DD03C9</td>\n",
       "      <td>Dragons in the Sunset</td>\n",
       "      <td>Fire + Ice</td>\n",
       "      <td>folk</td>\n",
       "      <td>Shelbyville</td>\n",
       "      <td>8:37:09</td>\n",
       "      <td>Monday</td>\n",
       "    </tr>\n",
       "    <tr>\n",
       "      <th>4</th>\n",
       "      <td>E2DC1FAE</td>\n",
       "      <td>Soul People</td>\n",
       "      <td>Space Echo</td>\n",
       "      <td>dance</td>\n",
       "      <td>Springfield</td>\n",
       "      <td>8:34:34</td>\n",
       "      <td>Monday</td>\n",
       "    </tr>\n",
       "    <tr>\n",
       "      <th>5</th>\n",
       "      <td>842029A1</td>\n",
       "      <td>Chains</td>\n",
       "      <td>Obladaet</td>\n",
       "      <td>rusrap</td>\n",
       "      <td>Shelbyville</td>\n",
       "      <td>13:09:41</td>\n",
       "      <td>Friday</td>\n",
       "    </tr>\n",
       "    <tr>\n",
       "      <th>6</th>\n",
       "      <td>4CB90AA5</td>\n",
       "      <td>TRUE</td>\n",
       "      <td>Roman Messer</td>\n",
       "      <td>dance</td>\n",
       "      <td>Springfield</td>\n",
       "      <td>13:00:07</td>\n",
       "      <td>Wednesday</td>\n",
       "    </tr>\n",
       "    <tr>\n",
       "      <th>7</th>\n",
       "      <td>F03E1C1F</td>\n",
       "      <td>Feeling This Way</td>\n",
       "      <td>Polina Griffith</td>\n",
       "      <td>dance</td>\n",
       "      <td>Springfield</td>\n",
       "      <td>20:47:49</td>\n",
       "      <td>Wednesday</td>\n",
       "    </tr>\n",
       "    <tr>\n",
       "      <th>8</th>\n",
       "      <td>8FA1D3BE</td>\n",
       "      <td>L’estate</td>\n",
       "      <td>Julia Dalia</td>\n",
       "      <td>ruspop</td>\n",
       "      <td>Springfield</td>\n",
       "      <td>9:17:40</td>\n",
       "      <td>Friday</td>\n",
       "    </tr>\n",
       "    <tr>\n",
       "      <th>9</th>\n",
       "      <td>E772D5C0</td>\n",
       "      <td>Pessimist</td>\n",
       "      <td>NaN</td>\n",
       "      <td>dance</td>\n",
       "      <td>Shelbyville</td>\n",
       "      <td>21:20:49</td>\n",
       "      <td>Wednesday</td>\n",
       "    </tr>\n",
       "  </tbody>\n",
       "</table>\n",
       "</div>"
      ],
      "text/plain": [
       "     userID                        Track            artist   genre  \\\n",
       "0  FFB692EC            Kamigata To Boots  The Mass Missile    rock   \n",
       "1  55204538  Delayed Because of Accident  Andreas Rönnberg    rock   \n",
       "2    20EC38            Funiculì funiculà       Mario Lanza     pop   \n",
       "3  A3DD03C9        Dragons in the Sunset        Fire + Ice    folk   \n",
       "4  E2DC1FAE                  Soul People        Space Echo   dance   \n",
       "5  842029A1                       Chains          Obladaet  rusrap   \n",
       "6  4CB90AA5                         TRUE      Roman Messer   dance   \n",
       "7  F03E1C1F             Feeling This Way   Polina Griffith   dance   \n",
       "8  8FA1D3BE                     L’estate       Julia Dalia  ruspop   \n",
       "9  E772D5C0                    Pessimist               NaN   dance   \n",
       "\n",
       "        City        time        Day  \n",
       "0  Shelbyville  20:28:33  Wednesday  \n",
       "1  Springfield  14:07:09     Friday  \n",
       "2  Shelbyville  20:58:07  Wednesday  \n",
       "3  Shelbyville   8:37:09     Monday  \n",
       "4  Springfield   8:34:34     Monday  \n",
       "5  Shelbyville  13:09:41     Friday  \n",
       "6  Springfield  13:00:07  Wednesday  \n",
       "7  Springfield  20:47:49  Wednesday  \n",
       "8  Springfield   9:17:40     Friday  \n",
       "9  Shelbyville  21:20:49  Wednesday  "
      ]
     },
     "execution_count": 3,
     "metadata": {},
     "output_type": "execute_result"
    }
   ],
   "source": [
    "# obtaining the first 10 rows from the df table\n",
    "\n",
    "df.head(10)"
   ]
  },
  {
   "cell_type": "markdown",
   "metadata": {
    "id": "EO73Kwic_Zct"
   },
   "source": [
    "Obtaining the general information about the table with one command:"
   ]
  },
  {
   "cell_type": "code",
   "execution_count": 4,
   "metadata": {
    "id": "DSf2kIb-_Zct"
   },
   "outputs": [
    {
     "name": "stdout",
     "output_type": "stream",
     "text": [
      "<class 'pandas.core.frame.DataFrame'>\n",
      "RangeIndex: 65079 entries, 0 to 65078\n",
      "Data columns (total 7 columns):\n",
      " #   Column    Non-Null Count  Dtype \n",
      "---  ------    --------------  ----- \n",
      " 0     userID  65079 non-null  object\n",
      " 1   Track     63736 non-null  object\n",
      " 2   artist    57512 non-null  object\n",
      " 3   genre     63881 non-null  object\n",
      " 4     City    65079 non-null  object\n",
      " 5   time      65079 non-null  object\n",
      " 6   Day       65079 non-null  object\n",
      "dtypes: object(7)\n",
      "memory usage: 3.5+ MB\n"
     ]
    }
   ],
   "source": [
    "# obtaining general information about the data in df\n",
    "\n",
    "df.info()"
   ]
  },
  {
   "cell_type": "markdown",
   "metadata": {
    "id": "TaQ2Iwbr_Zct"
   },
   "source": [
    "The table contains seven columns. They all store the same data type: `object`.\n",
    "\n",
    "According to the documentation:\n",
    "- `'userID'` — user identifier\n",
    "- `'Track'` — track title\n",
    "- `'artist'` — artist's name\n",
    "- `'genre'`\n",
    "- `'City'` — user's city\n",
    "- `'time'` — the exact time the track was played\n",
    "- `'Day'` — day of the week\n",
    "\n",
    "We can see three issues with style in the column names:\n",
    "1. Some names are uppercase, some are lowercase.\n",
    "2. There are spaces in some names.\n",
    "3. `Lack of documentation for the 'genre' column`\n",
    "\n",
    "The number of column values is different. This means the data contains missing values.\n"
   ]
  },
  {
   "cell_type": "markdown",
   "metadata": {
    "id": "MCB6-dXG_Zct"
   },
   "source": [
    "### Conclusions <a id='data_review_conclusions'></a> \n",
    "\n",
    "Each row in the table stores data on a track that was played. Some columns describe the track itself: its title, artist and genre. The rest convey information about the user: the city they come from, the time they played the track. \n",
    "\n",
    "It's clear that the data is sufficient to test the hypotheses. However, there are missing values.\n",
    "\n",
    "To move forward, we need to preprocess the data."
   ]
  },
  {
   "cell_type": "markdown",
   "metadata": {
    "id": "3eL__vcwViOi"
   },
   "source": [
    "[Back to Contents](#back)"
   ]
  },
  {
   "cell_type": "markdown",
   "metadata": {
    "id": "SjYF6Ub9_Zct"
   },
   "source": [
    "## Stage 2. Data preprocessing <a id='data_preprocessing'></a>\n",
    "Correct the formatting in the column headers and deal with the missing values. Then, check whether there are duplicates in the data."
   ]
  },
  {
   "cell_type": "markdown",
   "metadata": {
    "id": "dIaKXr29_Zct"
   },
   "source": [
    "### Header style <a id='header_style'></a>\n",
    "Print the column header:"
   ]
  },
  {
   "cell_type": "code",
   "execution_count": 5,
   "metadata": {
    "id": "oKOTdF_Q_Zct"
   },
   "outputs": [
    {
     "data": {
      "text/plain": [
       "Index(['  userID', 'Track', 'artist', 'genre', '  City  ', 'time', 'Day'], dtype='object')"
      ]
     },
     "execution_count": 5,
     "metadata": {},
     "output_type": "execute_result"
    }
   ],
   "source": [
    "# the list of column names in the df table\n",
    "\n",
    "df.columns"
   ]
  },
  {
   "cell_type": "markdown",
   "metadata": {
    "id": "zj5534cv_Zct"
   },
   "source": [
    "Change column names according to the rules of good style:\n",
    "* If the name has several words, use snake_case\n",
    "* All characters must be lowercase\n",
    "* Delete spaces"
   ]
  },
  {
   "cell_type": "code",
   "execution_count": 6,
   "metadata": {
    "id": "ISlFqs5y_Zct"
   },
   "outputs": [],
   "source": [
    "# renaming columns\n",
    "\n",
    "df = df.rename(\n",
    "    columns = {\n",
    "        '  userID': 'user_id',\n",
    "        'Track': 'track',\n",
    "        '  City  ': 'city',\n",
    "        'Day': 'day',\n",
    "    }\n",
    ")"
   ]
  },
  {
   "cell_type": "markdown",
   "metadata": {
    "id": "1dqbh00J_Zct"
   },
   "source": [
    "Check the result. Print the names of the columns once more:"
   ]
  },
  {
   "cell_type": "code",
   "execution_count": 7,
   "metadata": {
    "id": "d4NOAmTW_Zct"
   },
   "outputs": [
    {
     "data": {
      "text/plain": [
       "Index(['user_id', 'track', 'artist', 'genre', 'city', 'time', 'day'], dtype='object')"
      ]
     },
     "execution_count": 7,
     "metadata": {},
     "output_type": "execute_result"
    }
   ],
   "source": [
    "# checking result: the list of column names\n",
    "\n",
    "df.columns"
   ]
  },
  {
   "cell_type": "markdown",
   "metadata": {
    "id": "xYJk6ksJVpOl"
   },
   "source": [
    "[Back to Contents](#back)"
   ]
  },
  {
   "cell_type": "markdown",
   "metadata": {
    "id": "5ISfbcfY_Zct"
   },
   "source": [
    "### Missing values <a id='missing_values'></a>\n",
    "First, find the number of missing values in the table. To do so, use two `pandas` methods:"
   ]
  },
  {
   "cell_type": "code",
   "execution_count": 8,
   "metadata": {
    "id": "RskX29qr_Zct",
    "scrolled": true
   },
   "outputs": [
    {
     "data": {
      "text/plain": [
       "user_id       0\n",
       "track      1343\n",
       "artist     7567\n",
       "genre      1198\n",
       "city          0\n",
       "time          0\n",
       "day           0\n",
       "dtype: int64"
      ]
     },
     "execution_count": 8,
     "metadata": {},
     "output_type": "execute_result"
    }
   ],
   "source": [
    "# calculating missing values\n",
    "\n",
    "df.isna().sum()"
   ]
  },
  {
   "cell_type": "markdown",
   "metadata": {
    "id": "qubhgnlO_Zct"
   },
   "source": [
    "Not all missing values affect the research. For instance, the missing values in `track` and `artist` are not critical. You can simply replace them with clear markers.\n",
    "\n",
    "But missing values in `'genre'` can affect the comparison of music preferences in Springfield and Shelbyville. In real life, it would be useful to learn the reasons why the data is missing and try to make up for them. But we do not have that opportunity in this project. So you will have to:\n",
    "* Fill in these missing values with markers\n",
    "* Evaluate how much the missing values may affect your computations"
   ]
  },
  {
   "cell_type": "markdown",
   "metadata": {
    "id": "fSv2laPA_Zct"
   },
   "source": [
    "Replace the missing values in `'track'`, `'artist'`, and `'genre'` with the string `'unknown'`. To do this, create the `columns_to_replace` list, loop over it with `for`, and replace the missing values in each of the columns:"
   ]
  },
  {
   "cell_type": "code",
   "execution_count": 9,
   "metadata": {
    "id": "KplB5qWs_Zct"
   },
   "outputs": [],
   "source": [
    "# looping over column names and replacing missing values with 'unknown'\n",
    "\n",
    "columns_to_replace = df.loc[:, ['track', 'artist', 'genre']]\n",
    "\n",
    "for column in columns_to_replace:\n",
    "        columns_to_replace[column] = columns_to_replace[column].fillna('unknown')\n",
    "        \n",
    "df['track'] = df['track'].fillna(value=columns_to_replace['track'])\n",
    "df['artist'] = df['artist'].fillna(value=columns_to_replace['artist'])\n",
    "df['genre'] = df['genre'].fillna(value=columns_to_replace['genre'])\n"
   ]
  },
  {
   "cell_type": "markdown",
   "metadata": {
    "id": "Ilsm-MZo_Zct"
   },
   "source": [
    "Make sure the table contains no more missing values. Count the missing values again."
   ]
  },
  {
   "cell_type": "code",
   "execution_count": 10,
   "metadata": {
    "id": "Tq4nYRX4_Zct",
    "scrolled": true
   },
   "outputs": [
    {
     "data": {
      "text/plain": [
       "user_id    0\n",
       "track      0\n",
       "artist     0\n",
       "genre      0\n",
       "city       0\n",
       "time       0\n",
       "day        0\n",
       "dtype: int64"
      ]
     },
     "execution_count": 10,
     "metadata": {},
     "output_type": "execute_result"
    }
   ],
   "source": [
    "# counting missing values\n",
    "\n",
    "df.isna().sum()"
   ]
  },
  {
   "cell_type": "markdown",
   "metadata": {
    "id": "74ZIBmq9VrsK"
   },
   "source": [
    "[Back to Contents](#back)"
   ]
  },
  {
   "cell_type": "markdown",
   "metadata": {
    "id": "BWKRtBJ3_Zct"
   },
   "source": [
    "### Duplicates <a id='duplicates'></a>\n",
    "Find the number of obvious duplicates in the table using one command:"
   ]
  },
  {
   "cell_type": "code",
   "execution_count": 11,
   "metadata": {
    "id": "36eES_S0_Zct"
   },
   "outputs": [
    {
     "data": {
      "text/plain": [
       "3826"
      ]
     },
     "execution_count": 11,
     "metadata": {},
     "output_type": "execute_result"
    }
   ],
   "source": [
    "# counting clear duplicates\n",
    "\n",
    "df.duplicated().sum()"
   ]
  },
  {
   "cell_type": "markdown",
   "metadata": {
    "id": "Ot25h6XR_Zct"
   },
   "source": [
    "Call the `pandas` method for getting rid of obvious duplicates:"
   ]
  },
  {
   "cell_type": "code",
   "execution_count": 12,
   "metadata": {
    "id": "exFHq6tt_Zct"
   },
   "outputs": [],
   "source": [
    "# removing obvious duplicates\n",
    "\n",
    "df = df.drop_duplicates().reset_index(drop=True)"
   ]
  },
  {
   "cell_type": "markdown",
   "metadata": {
    "id": "Im2YwBEG_Zct"
   },
   "source": [
    "Count obvious duplicates once more to make sure you have removed all of them:"
   ]
  },
  {
   "cell_type": "code",
   "execution_count": 13,
   "metadata": {
    "id": "-8PuNWQ0_Zct"
   },
   "outputs": [
    {
     "data": {
      "text/plain": [
       "0"
      ]
     },
     "execution_count": 13,
     "metadata": {},
     "output_type": "execute_result"
    }
   ],
   "source": [
    "# checking for duplicates\n",
    "\n",
    "df.duplicated().sum()"
   ]
  },
  {
   "cell_type": "markdown",
   "metadata": {
    "id": "QlFBsxAr_Zct"
   },
   "source": [
    "Now get rid of implicit duplicates in the `genre` column. For example, the name of a genre can be written in different ways. Such errors will also affect the result."
   ]
  },
  {
   "cell_type": "markdown",
   "metadata": {
    "id": "eSjWwsOh_Zct"
   },
   "source": [
    "Print a list of unique genre names, sorted in alphabetical order. To do so:\n",
    "* Retrieve the intended DataFrame column \n",
    "* Apply a sorting method to it\n",
    "* For the sorted column, call the method that will return all unique column values"
   ]
  },
  {
   "cell_type": "code",
   "execution_count": 14,
   "metadata": {
    "id": "JIUcqzZN_Zct"
   },
   "outputs": [
    {
     "data": {
      "text/plain": [
       "array(['acid', 'acoustic', 'action', 'adult', 'africa', 'afrikaans',\n",
       "       'alternative', 'ambient', 'americana', 'animated', 'anime',\n",
       "       'arabesk', 'arabic', 'arena', 'argentinetango', 'art', 'audiobook',\n",
       "       'avantgarde', 'axé', 'baile', 'balkan', 'beats', 'bigroom',\n",
       "       'black', 'bluegrass', 'blues', 'bollywood', 'bossa', 'brazilian',\n",
       "       'breakbeat', 'breaks', 'broadway', 'cantautori', 'cantopop',\n",
       "       'canzone', 'caribbean', 'caucasian', 'celtic', 'chamber',\n",
       "       'children', 'chill', 'chinese', 'choral', 'christian', 'christmas',\n",
       "       'classical', 'classicmetal', 'club', 'colombian', 'comedy',\n",
       "       'conjazz', 'contemporary', 'country', 'cuban', 'dance',\n",
       "       'dancehall', 'dancepop', 'dark', 'death', 'deep', 'deutschrock',\n",
       "       'deutschspr', 'dirty', 'disco', 'dnb', 'documentary', 'downbeat',\n",
       "       'downtempo', 'drum', 'dub', 'dubstep', 'eastern', 'easy',\n",
       "       'electronic', 'electropop', 'emo', 'entehno', 'epicmetal',\n",
       "       'estrada', 'ethnic', 'eurofolk', 'european', 'experimental',\n",
       "       'extrememetal', 'fado', 'film', 'fitness', 'flamenco', 'folk',\n",
       "       'folklore', 'folkmetal', 'folkrock', 'folktronica', 'forró',\n",
       "       'frankreich', 'französisch', 'french', 'funk', 'future', 'gangsta',\n",
       "       'garage', 'german', 'ghazal', 'gitarre', 'glitch', 'gospel',\n",
       "       'gothic', 'grime', 'grunge', 'gypsy', 'handsup', \"hard'n'heavy\",\n",
       "       'hardcore', 'hardstyle', 'hardtechno', 'hip', 'hip-hop', 'hiphop',\n",
       "       'historisch', 'holiday', 'hop', 'horror', 'house', 'idm',\n",
       "       'independent', 'indian', 'indie', 'indipop', 'industrial',\n",
       "       'inspirational', 'instrumental', 'international', 'irish', 'jam',\n",
       "       'japanese', 'jazz', 'jewish', 'jpop', 'jungle', 'k-pop',\n",
       "       'karadeniz', 'karaoke', 'kayokyoku', 'korean', 'laiko', 'latin',\n",
       "       'latino', 'leftfield', 'local', 'lounge', 'loungeelectronic',\n",
       "       'lovers', 'malaysian', 'mandopop', 'marschmusik', 'meditative',\n",
       "       'mediterranean', 'melodic', 'metal', 'metalcore', 'mexican',\n",
       "       'middle', 'minimal', 'miscellaneous', 'modern', 'mood', 'mpb',\n",
       "       'muslim', 'native', 'neoklassik', 'neue', 'new', 'newage',\n",
       "       'newwave', 'nu', 'nujazz', 'numetal', 'oceania', 'old', 'opera',\n",
       "       'orchestral', 'other', 'piano', 'pop', 'popelectronic',\n",
       "       'popeurodance', 'post', 'posthardcore', 'postrock', 'power',\n",
       "       'progmetal', 'progressive', 'psychedelic', 'punjabi', 'punk',\n",
       "       'quebecois', 'ragga', 'ram', 'rancheras', 'rap', 'rave', 'reggae',\n",
       "       'reggaeton', 'regional', 'relax', 'religious', 'retro', 'rhythm',\n",
       "       'rnb', 'rnr', 'rock', 'rockabilly', 'romance', 'roots', 'ruspop',\n",
       "       'rusrap', 'rusrock', 'salsa', 'samba', 'schlager', 'self',\n",
       "       'sertanejo', 'shoegazing', 'showtunes', 'singer', 'ska', 'slow',\n",
       "       'smooth', 'soul', 'soulful', 'sound', 'soundtrack', 'southern',\n",
       "       'specialty', 'speech', 'spiritual', 'sport', 'stonerrock', 'surf',\n",
       "       'swing', 'synthpop', 'sängerportrait', 'tango', 'tanzorchester',\n",
       "       'taraftar', 'tech', 'techno', 'thrash', 'top', 'traditional',\n",
       "       'tradjazz', 'trance', 'tribal', 'trip', 'triphop', 'tropical',\n",
       "       'türk', 'türkçe', 'unknown', 'urban', 'uzbek', 'variété', 'vi',\n",
       "       'videogame', 'vocal', 'western', 'world', 'worldbeat', 'ïîï'],\n",
       "      dtype=object)"
      ]
     },
     "execution_count": 14,
     "metadata": {},
     "output_type": "execute_result"
    }
   ],
   "source": [
    "# viewing unique genre names\n",
    "\n",
    "df['genre'].sort_values().unique()"
   ]
  },
  {
   "cell_type": "markdown",
   "metadata": {
    "id": "qej-Qmuo_Zct"
   },
   "source": [
    "Look through the list to find implicit duplicates of the genre `hiphop`. These could be names written incorrectly or alternative names of the same genre.\n",
    "\n",
    "You will see the following implicit duplicates:\n",
    "* `hip`\n",
    "* `hop`\n",
    "* `hip-hop`\n",
    "\n",
    "To get rid of them, declare the function `replace_wrong_genres()` with two parameters: \n",
    "* `wrong_genres=` — the list of duplicates\n",
    "* `correct_genre=` — the string with the correct value\n",
    "\n",
    "The function should correct the names in the `'genre'` column from the `df` table, i.e. replace each value from the `wrong_genres` list with the value in `correct_genre`."
   ]
  },
  {
   "cell_type": "code",
   "execution_count": 15,
   "metadata": {
    "id": "ErNDkmns_Zct"
   },
   "outputs": [],
   "source": [
    "# function for replacing implicit duplicates\n",
    "\n",
    "def replace_wrong_genres(wrong_genres, correct_genre):\n",
    "    for wrong_genre in wrong_genres:\n",
    "        df['genre'] = df['genre'].replace(wrong_genre, correct_genre)"
   ]
  },
  {
   "cell_type": "markdown",
   "metadata": {
    "id": "aDoBJxbA_Zct"
   },
   "source": [
    "Call `replace_wrong_genres()` and pass it arguments so that it clears implicit duplcates (`hip`, `hop`, and `hip-hop`) and replaces them with `hiphop`:"
   ]
  },
  {
   "cell_type": "code",
   "execution_count": 16,
   "metadata": {
    "id": "YN5i2hpmSo09"
   },
   "outputs": [],
   "source": [
    "# removing implicit duplicates\n",
    "\n",
    "duplicates = ['hip', 'hop', 'hip-hop']\n",
    "correct_value = 'hiphop'\n",
    "replace_wrong_genres(duplicates, correct_value)"
   ]
  },
  {
   "cell_type": "markdown",
   "metadata": {
    "id": "zQKF16_RG15m"
   },
   "source": [
    "Make sure the duplicate names were removed. Print the list of unique values from the `'genre'` column:"
   ]
  },
  {
   "cell_type": "code",
   "execution_count": 17,
   "metadata": {
    "id": "wvixALnFG15m"
   },
   "outputs": [
    {
     "data": {
      "text/plain": [
       "array(['acid', 'acoustic', 'action', 'adult', 'africa', 'afrikaans',\n",
       "       'alternative', 'ambient', 'americana', 'animated', 'anime',\n",
       "       'arabesk', 'arabic', 'arena', 'argentinetango', 'art', 'audiobook',\n",
       "       'avantgarde', 'axé', 'baile', 'balkan', 'beats', 'bigroom',\n",
       "       'black', 'bluegrass', 'blues', 'bollywood', 'bossa', 'brazilian',\n",
       "       'breakbeat', 'breaks', 'broadway', 'cantautori', 'cantopop',\n",
       "       'canzone', 'caribbean', 'caucasian', 'celtic', 'chamber',\n",
       "       'children', 'chill', 'chinese', 'choral', 'christian', 'christmas',\n",
       "       'classical', 'classicmetal', 'club', 'colombian', 'comedy',\n",
       "       'conjazz', 'contemporary', 'country', 'cuban', 'dance',\n",
       "       'dancehall', 'dancepop', 'dark', 'death', 'deep', 'deutschrock',\n",
       "       'deutschspr', 'dirty', 'disco', 'dnb', 'documentary', 'downbeat',\n",
       "       'downtempo', 'drum', 'dub', 'dubstep', 'eastern', 'easy',\n",
       "       'electronic', 'electropop', 'emo', 'entehno', 'epicmetal',\n",
       "       'estrada', 'ethnic', 'eurofolk', 'european', 'experimental',\n",
       "       'extrememetal', 'fado', 'film', 'fitness', 'flamenco', 'folk',\n",
       "       'folklore', 'folkmetal', 'folkrock', 'folktronica', 'forró',\n",
       "       'frankreich', 'französisch', 'french', 'funk', 'future', 'gangsta',\n",
       "       'garage', 'german', 'ghazal', 'gitarre', 'glitch', 'gospel',\n",
       "       'gothic', 'grime', 'grunge', 'gypsy', 'handsup', \"hard'n'heavy\",\n",
       "       'hardcore', 'hardstyle', 'hardtechno', 'hiphop', 'historisch',\n",
       "       'holiday', 'horror', 'house', 'idm', 'independent', 'indian',\n",
       "       'indie', 'indipop', 'industrial', 'inspirational', 'instrumental',\n",
       "       'international', 'irish', 'jam', 'japanese', 'jazz', 'jewish',\n",
       "       'jpop', 'jungle', 'k-pop', 'karadeniz', 'karaoke', 'kayokyoku',\n",
       "       'korean', 'laiko', 'latin', 'latino', 'leftfield', 'local',\n",
       "       'lounge', 'loungeelectronic', 'lovers', 'malaysian', 'mandopop',\n",
       "       'marschmusik', 'meditative', 'mediterranean', 'melodic', 'metal',\n",
       "       'metalcore', 'mexican', 'middle', 'minimal', 'miscellaneous',\n",
       "       'modern', 'mood', 'mpb', 'muslim', 'native', 'neoklassik', 'neue',\n",
       "       'new', 'newage', 'newwave', 'nu', 'nujazz', 'numetal', 'oceania',\n",
       "       'old', 'opera', 'orchestral', 'other', 'piano', 'pop',\n",
       "       'popelectronic', 'popeurodance', 'post', 'posthardcore',\n",
       "       'postrock', 'power', 'progmetal', 'progressive', 'psychedelic',\n",
       "       'punjabi', 'punk', 'quebecois', 'ragga', 'ram', 'rancheras', 'rap',\n",
       "       'rave', 'reggae', 'reggaeton', 'regional', 'relax', 'religious',\n",
       "       'retro', 'rhythm', 'rnb', 'rnr', 'rock', 'rockabilly', 'romance',\n",
       "       'roots', 'ruspop', 'rusrap', 'rusrock', 'salsa', 'samba',\n",
       "       'schlager', 'self', 'sertanejo', 'shoegazing', 'showtunes',\n",
       "       'singer', 'ska', 'slow', 'smooth', 'soul', 'soulful', 'sound',\n",
       "       'soundtrack', 'southern', 'specialty', 'speech', 'spiritual',\n",
       "       'sport', 'stonerrock', 'surf', 'swing', 'synthpop',\n",
       "       'sängerportrait', 'tango', 'tanzorchester', 'taraftar', 'tech',\n",
       "       'techno', 'thrash', 'top', 'traditional', 'tradjazz', 'trance',\n",
       "       'tribal', 'trip', 'triphop', 'tropical', 'türk', 'türkçe',\n",
       "       'unknown', 'urban', 'uzbek', 'variété', 'vi', 'videogame', 'vocal',\n",
       "       'western', 'world', 'worldbeat', 'ïîï'], dtype=object)"
      ]
     },
     "execution_count": 17,
     "metadata": {},
     "output_type": "execute_result"
    }
   ],
   "source": [
    "# checking for implicit duplicates\n",
    "\n",
    "df['genre'].sort_values().unique()"
   ]
  },
  {
   "cell_type": "markdown",
   "metadata": {
    "id": "ALgNbvF3VtPA"
   },
   "source": [
    "[Back to Contents](#back)"
   ]
  },
  {
   "cell_type": "markdown",
   "metadata": {
    "id": "jz6a9-7HQUDd"
   },
   "source": [
    "### Conclusions <a id='data_preprocessing_conclusions'></a>\n",
    "We detected three issues with the data:\n",
    "\n",
    "- Incorrect header styles\n",
    "- Missing values\n",
    "- Obvious and implicit duplicates\n",
    "\n",
    "The headers have been cleaned up to make processing the table simpler.\n",
    "\n",
    "All missing values have been replaced with `'unknown'`. But we still have to see whether the missing values in `'genre'` will affect our calculations.\n",
    "\n",
    "The absence of duplicates will make the results more precise and easier to understand.\n",
    "\n",
    "Now we can move on to testing hypotheses. "
   ]
  },
  {
   "cell_type": "markdown",
   "metadata": {
    "id": "eK1es74rVujj"
   },
   "source": [
    "[Back to Contents](#back)"
   ]
  },
  {
   "cell_type": "markdown",
   "metadata": {
    "id": "WttZHXH0SqKk"
   },
   "source": [
    "## Stage 3. Testing hypotheses <a id='hypotheses'></a>"
   ]
  },
  {
   "cell_type": "markdown",
   "metadata": {
    "id": "Im936VVi_Zcu"
   },
   "source": [
    "### Hypothesis 1: comparing user behavior in two cities <a id='activity'></a>"
   ]
  },
  {
   "cell_type": "markdown",
   "metadata": {
    "id": "nwt_MuaL_Zcu"
   },
   "source": [
    "According to the first hypothesis, users from Springfield and Shelbyville listen to music differently. Test this using the data on three days of the week: Monday, Wednesday, and Friday.\n",
    "\n",
    "* Divide the users into groups by city.\n",
    "* Compare how many tracks each group played on Monday, Wednesday, and Friday.\n"
   ]
  },
  {
   "cell_type": "markdown",
   "metadata": {
    "id": "8Dw_YMmT_Zcu"
   },
   "source": [
    "For the sake of practice, perform each computation separately. \n",
    "\n",
    "Evaluate user activity in each city. Group the data by city and find the number of songs played in each group.\n",
    "\n"
   ]
  },
  {
   "cell_type": "code",
   "execution_count": 18,
   "metadata": {
    "id": "0_Qs96oh_Zcu"
   },
   "outputs": [
    {
     "data": {
      "text/plain": [
       "city\n",
       "Shelbyville    18512\n",
       "Springfield    42741\n",
       "Name: track, dtype: int64"
      ]
     },
     "execution_count": 18,
     "metadata": {},
     "output_type": "execute_result"
    }
   ],
   "source": [
    "# Counting up the tracks played in each city\n",
    "\n",
    "df.groupby('city')['track'].count()"
   ]
  },
  {
   "cell_type": "markdown",
   "metadata": {
    "id": "dzli3w8o_Zcu"
   },
   "source": [
    "Springfield has more tracks played than Shelbyville. But that does not imply that citizens of Springfield listen to music more often. This city is simply bigger, and there are more users.\n",
    "\n",
    "Now group the data by day of the week and find the number of tracks played on Monday, Wednesday, and Friday.\n"
   ]
  },
  {
   "cell_type": "code",
   "execution_count": 19,
   "metadata": {
    "id": "uZMKjiJz_Zcu"
   },
   "outputs": [
    {
     "data": {
      "text/plain": [
       "day\n",
       "Friday       21840\n",
       "Monday       21354\n",
       "Wednesday    18059\n",
       "Name: track, dtype: int64"
      ]
     },
     "execution_count": 19,
     "metadata": {},
     "output_type": "execute_result"
    }
   ],
   "source": [
    "# Calculating tracks played on each of the three days\n",
    "\n",
    "df.groupby('day')['track'].count()"
   ]
  },
  {
   "cell_type": "code",
   "execution_count": 20,
   "metadata": {},
   "outputs": [
    {
     "data": {
      "text/html": [
       "<div>\n",
       "<style scoped>\n",
       "    .dataframe tbody tr th:only-of-type {\n",
       "        vertical-align: middle;\n",
       "    }\n",
       "\n",
       "    .dataframe tbody tr th {\n",
       "        vertical-align: top;\n",
       "    }\n",
       "\n",
       "    .dataframe thead th {\n",
       "        text-align: right;\n",
       "    }\n",
       "</style>\n",
       "<table border=\"1\" class=\"dataframe\">\n",
       "  <thead>\n",
       "    <tr style=\"text-align: right;\">\n",
       "      <th></th>\n",
       "      <th>track</th>\n",
       "    </tr>\n",
       "    <tr>\n",
       "      <th>day</th>\n",
       "      <th></th>\n",
       "    </tr>\n",
       "  </thead>\n",
       "  <tbody>\n",
       "    <tr>\n",
       "      <th>Friday</th>\n",
       "      <td>21840</td>\n",
       "    </tr>\n",
       "    <tr>\n",
       "      <th>Monday</th>\n",
       "      <td>21354</td>\n",
       "    </tr>\n",
       "    <tr>\n",
       "      <th>Wednesday</th>\n",
       "      <td>18059</td>\n",
       "    </tr>\n",
       "  </tbody>\n",
       "</table>\n",
       "</div>"
      ],
      "text/plain": [
       "           track\n",
       "day             \n",
       "Friday     21840\n",
       "Monday     21354\n",
       "Wednesday  18059"
      ]
     },
     "execution_count": 20,
     "metadata": {},
     "output_type": "execute_result"
    }
   ],
   "source": [
    "# Reviewer's code\n",
    "\n",
    "df.groupby('day')[['track']].count()"
   ]
  },
  {
   "cell_type": "markdown",
   "metadata": {
    "id": "cC2tNrlL_Zcu"
   },
   "source": [
    "Wednesday is the quietest day overall. But if we consider the two cities separately, we might come to a different conclusion."
   ]
  },
  {
   "cell_type": "markdown",
   "metadata": {
    "id": "POzs8bGa_Zcu"
   },
   "source": [
    "You have seen how grouping by city or day works. Now write a function that will group by both.\n",
    "\n",
    "Create the `number_tracks()` function to calculate the number of songs played for a given day and city. It will require two parameters:\n",
    "* day of the week\n",
    "* name of the city\n",
    "\n",
    "In the function, use a variable to store the rows from the original table, where:\n",
    "  * `'day'` column value is equal to the `day` parameter\n",
    "  * `'city'` column value is equal to the `city` parameter\n",
    "\n",
    "Apply consecutive filtering with logical indexing.\n",
    "\n",
    "Then calculate the `'user_id'` column values in the resulting table. Store the result to a new variable. Return this variable from the function."
   ]
  },
  {
   "cell_type": "code",
   "execution_count": 21,
   "metadata": {
    "id": "Nz3GdQB1_Zcu"
   },
   "outputs": [
    {
     "data": {
      "text/plain": [
       "15740"
      ]
     },
     "execution_count": 21,
     "metadata": {},
     "output_type": "execute_result"
    }
   ],
   "source": [
    "# <creating the function number_tracks()>\n",
    "# We'll declare a function with two parameters: day=, city=.\n",
    "# Let the track_list variable store the df rows where\n",
    "# the value in the 'day' column is equal to the day= parameter and, at the same time, \n",
    "# the value in the 'city' column is equal to the city= parameter (apply consecutive filtering \n",
    "# with logical indexing).\n",
    "# Let the track_list_count variable store the number of 'user_id' column values in track_list\n",
    "# (found with the count() method).\n",
    "# Let the function return a number: the value of track_list_count.\n",
    "\n",
    "# The function counts tracked played for a certain city and day.\n",
    "# It first retrieves the rows with the intended day from the table,\n",
    "# then filters out the rows with the intended city from the result,\n",
    "# then finds the number of 'user_id' values in the filtered table,\n",
    "# then returns that number.\n",
    "# To see what it returns, wrap the function call in print().\n",
    "\n",
    "def number_tracks(day, city): \n",
    "    track_list = df[(df['day'] == day) & (df['city'] == city)]\n",
    "    track_list_count = track_list['user_id'].count()\n",
    "    return track_list_count\n",
    "\n",
    "number_tracks('Monday', 'Springfield') # Testing what the function returns, similar to wrapping the function call in print()."
   ]
  },
  {
   "cell_type": "markdown",
   "metadata": {
    "id": "ytf7xFrFJQ2r"
   },
   "source": [
    "Call `number_tracks()` six times, changing the parameter values, so that you retrieve the data on both cities for each of the three days."
   ]
  },
  {
   "cell_type": "code",
   "execution_count": 22,
   "metadata": {
    "id": "rJcRATNQ_Zcu"
   },
   "outputs": [
    {
     "data": {
      "text/plain": [
       "15740"
      ]
     },
     "execution_count": 22,
     "metadata": {},
     "output_type": "execute_result"
    }
   ],
   "source": [
    "# the number of songs played in Springfield on Monday\n",
    "\n",
    "number_tracks('Monday', 'Springfield')"
   ]
  },
  {
   "cell_type": "code",
   "execution_count": 23,
   "metadata": {
    "id": "hq_ncZ5T_Zcu"
   },
   "outputs": [
    {
     "data": {
      "text/plain": [
       "5614"
      ]
     },
     "execution_count": 23,
     "metadata": {},
     "output_type": "execute_result"
    }
   ],
   "source": [
    "# the number of songs played in Shelbyville on Monday\n",
    "\n",
    "number_tracks('Monday', 'Shelbyville')"
   ]
  },
  {
   "cell_type": "code",
   "execution_count": 24,
   "metadata": {
    "id": "_NTy2VPU_Zcu"
   },
   "outputs": [
    {
     "data": {
      "text/plain": [
       "11056"
      ]
     },
     "execution_count": 24,
     "metadata": {},
     "output_type": "execute_result"
    }
   ],
   "source": [
    "# the number of songs played in Springfield on Wednesday\n",
    "\n",
    "number_tracks('Wednesday', 'Springfield')"
   ]
  },
  {
   "cell_type": "code",
   "execution_count": 25,
   "metadata": {
    "id": "j2y3TAwo_Zcu"
   },
   "outputs": [
    {
     "data": {
      "text/plain": [
       "7003"
      ]
     },
     "execution_count": 25,
     "metadata": {},
     "output_type": "execute_result"
    }
   ],
   "source": [
    "# the number of songs played in Shelbyville on Wednesday\n",
    "\n",
    "number_tracks('Wednesday', 'Shelbyville')"
   ]
  },
  {
   "cell_type": "code",
   "execution_count": 26,
   "metadata": {
    "id": "vYDw5u_K_Zcu"
   },
   "outputs": [
    {
     "data": {
      "text/plain": [
       "15945"
      ]
     },
     "execution_count": 26,
     "metadata": {},
     "output_type": "execute_result"
    }
   ],
   "source": [
    "# the number of songs played in Springfield on Friday\n",
    "\n",
    "number_tracks('Friday', 'Springfield')"
   ]
  },
  {
   "cell_type": "code",
   "execution_count": 27,
   "metadata": {
    "id": "8_yzFtW3_Zcu"
   },
   "outputs": [
    {
     "data": {
      "text/plain": [
       "5895"
      ]
     },
     "execution_count": 27,
     "metadata": {},
     "output_type": "execute_result"
    }
   ],
   "source": [
    "# the number of songs played in Shelbyville on Friday\n",
    "\n",
    "number_tracks('Friday', 'Shelbyville')"
   ]
  },
  {
   "cell_type": "markdown",
   "metadata": {
    "id": "7QXffbO-_Zcu"
   },
   "source": [
    "Use `pd.DataFrame` to create a table, where\n",
    "* Column names are: `['city', 'monday', 'wednesday', 'friday']`\n",
    "* The data is the results you got from `number_tracks()`"
   ]
  },
  {
   "cell_type": "code",
   "execution_count": 28,
   "metadata": {
    "id": "APAcLpOr_Zcu"
   },
   "outputs": [
    {
     "data": {
      "text/html": [
       "<div>\n",
       "<style scoped>\n",
       "    .dataframe tbody tr th:only-of-type {\n",
       "        vertical-align: middle;\n",
       "    }\n",
       "\n",
       "    .dataframe tbody tr th {\n",
       "        vertical-align: top;\n",
       "    }\n",
       "\n",
       "    .dataframe thead th {\n",
       "        text-align: right;\n",
       "    }\n",
       "</style>\n",
       "<table border=\"1\" class=\"dataframe\">\n",
       "  <thead>\n",
       "    <tr style=\"text-align: right;\">\n",
       "      <th></th>\n",
       "      <th>city</th>\n",
       "      <th>monday</th>\n",
       "      <th>wednesday</th>\n",
       "      <th>friday</th>\n",
       "    </tr>\n",
       "  </thead>\n",
       "  <tbody>\n",
       "    <tr>\n",
       "      <th>0</th>\n",
       "      <td>Springfield</td>\n",
       "      <td>15740</td>\n",
       "      <td>11056</td>\n",
       "      <td>15945</td>\n",
       "    </tr>\n",
       "    <tr>\n",
       "      <th>1</th>\n",
       "      <td>Shelbyville</td>\n",
       "      <td>5614</td>\n",
       "      <td>7003</td>\n",
       "      <td>5895</td>\n",
       "    </tr>\n",
       "  </tbody>\n",
       "</table>\n",
       "</div>"
      ],
      "text/plain": [
       "          city  monday  wednesday  friday\n",
       "0  Springfield   15740      11056   15945\n",
       "1  Shelbyville    5614       7003    5895"
      ]
     },
     "execution_count": 28,
     "metadata": {},
     "output_type": "execute_result"
    }
   ],
   "source": [
    "# table with results\n",
    "\n",
    "input = {'city': ['Springfield', 'Shelbyville'], 'monday': [15740, 5614], 'wednesday': [11056, 7003], 'friday': [15945, 5895]}\n",
    "number_tracks_table = pd.DataFrame(data=input)\n",
    "number_tracks_table"
   ]
  },
  {
   "cell_type": "markdown",
   "metadata": {
    "id": "-EgPIHYu_Zcu"
   },
   "source": [
    "**Conclusions**\n",
    "\n",
    "The data reveals differences in user behavior:\n",
    "\n",
    "- In Springfield, the number of songs played peaks on Mondays and Fridays, while on Wednesday there is a decrease in activity.\n",
    "- In Shelbyville, on the contrary, users listen to music more on Wednesday. User activity on Monday and Friday is smaller.\n",
    "\n",
    "So the first hypothesis seems to be correct."
   ]
  },
  {
   "cell_type": "markdown",
   "metadata": {
    "id": "p7nFQajCVw5B"
   },
   "source": [
    "[Back to Contents](#back)"
   ]
  },
  {
   "cell_type": "markdown",
   "metadata": {
    "id": "atZAxtq4_Zcu"
   },
   "source": [
    "### Hypothesis 2: music at the beginning and end of the week <a id='week'></a>"
   ]
  },
  {
   "cell_type": "markdown",
   "metadata": {
    "id": "eXrQqXFH_Zcu"
   },
   "source": [
    "According to the second hypothesis, on Monday morning and Friday night, citizens of Springfield listen to genres that differ from ones users from Shelbyville enjoy."
   ]
  },
  {
   "cell_type": "markdown",
   "metadata": {
    "id": "S8UcW6Hw_Zcu"
   },
   "source": [
    "Get tables (make sure that the name of your combined table matches the DataFrame given in the two code blocks below):\n",
    "* For Springfield — `spr_general`\n",
    "* For Shelbyville — `shel_general`"
   ]
  },
  {
   "cell_type": "code",
   "execution_count": 29,
   "metadata": {
    "id": "qeaFfM_P_Zcu"
   },
   "outputs": [
    {
     "data": {
      "text/html": [
       "<div>\n",
       "<style scoped>\n",
       "    .dataframe tbody tr th:only-of-type {\n",
       "        vertical-align: middle;\n",
       "    }\n",
       "\n",
       "    .dataframe tbody tr th {\n",
       "        vertical-align: top;\n",
       "    }\n",
       "\n",
       "    .dataframe thead th {\n",
       "        text-align: right;\n",
       "    }\n",
       "</style>\n",
       "<table border=\"1\" class=\"dataframe\">\n",
       "  <thead>\n",
       "    <tr style=\"text-align: right;\">\n",
       "      <th></th>\n",
       "      <th>user_id</th>\n",
       "      <th>track</th>\n",
       "      <th>artist</th>\n",
       "      <th>genre</th>\n",
       "      <th>city</th>\n",
       "      <th>time</th>\n",
       "      <th>day</th>\n",
       "    </tr>\n",
       "  </thead>\n",
       "  <tbody>\n",
       "    <tr>\n",
       "      <th>1</th>\n",
       "      <td>55204538</td>\n",
       "      <td>Delayed Because of Accident</td>\n",
       "      <td>Andreas Rönnberg</td>\n",
       "      <td>rock</td>\n",
       "      <td>Springfield</td>\n",
       "      <td>14:07:09</td>\n",
       "      <td>Friday</td>\n",
       "    </tr>\n",
       "    <tr>\n",
       "      <th>4</th>\n",
       "      <td>E2DC1FAE</td>\n",
       "      <td>Soul People</td>\n",
       "      <td>Space Echo</td>\n",
       "      <td>dance</td>\n",
       "      <td>Springfield</td>\n",
       "      <td>8:34:34</td>\n",
       "      <td>Monday</td>\n",
       "    </tr>\n",
       "    <tr>\n",
       "      <th>6</th>\n",
       "      <td>4CB90AA5</td>\n",
       "      <td>TRUE</td>\n",
       "      <td>Roman Messer</td>\n",
       "      <td>dance</td>\n",
       "      <td>Springfield</td>\n",
       "      <td>13:00:07</td>\n",
       "      <td>Wednesday</td>\n",
       "    </tr>\n",
       "    <tr>\n",
       "      <th>7</th>\n",
       "      <td>F03E1C1F</td>\n",
       "      <td>Feeling This Way</td>\n",
       "      <td>Polina Griffith</td>\n",
       "      <td>dance</td>\n",
       "      <td>Springfield</td>\n",
       "      <td>20:47:49</td>\n",
       "      <td>Wednesday</td>\n",
       "    </tr>\n",
       "    <tr>\n",
       "      <th>8</th>\n",
       "      <td>8FA1D3BE</td>\n",
       "      <td>L’estate</td>\n",
       "      <td>Julia Dalia</td>\n",
       "      <td>ruspop</td>\n",
       "      <td>Springfield</td>\n",
       "      <td>9:17:40</td>\n",
       "      <td>Friday</td>\n",
       "    </tr>\n",
       "    <tr>\n",
       "      <th>...</th>\n",
       "      <td>...</td>\n",
       "      <td>...</td>\n",
       "      <td>...</td>\n",
       "      <td>...</td>\n",
       "      <td>...</td>\n",
       "      <td>...</td>\n",
       "      <td>...</td>\n",
       "    </tr>\n",
       "    <tr>\n",
       "      <th>61247</th>\n",
       "      <td>83A474E7</td>\n",
       "      <td>I Worship Only What You Bleed</td>\n",
       "      <td>The Black Dahlia Murder</td>\n",
       "      <td>extrememetal</td>\n",
       "      <td>Springfield</td>\n",
       "      <td>21:07:12</td>\n",
       "      <td>Monday</td>\n",
       "    </tr>\n",
       "    <tr>\n",
       "      <th>61248</th>\n",
       "      <td>729CBB09</td>\n",
       "      <td>My Name</td>\n",
       "      <td>McLean</td>\n",
       "      <td>rnb</td>\n",
       "      <td>Springfield</td>\n",
       "      <td>13:32:28</td>\n",
       "      <td>Wednesday</td>\n",
       "    </tr>\n",
       "    <tr>\n",
       "      <th>61250</th>\n",
       "      <td>C5E3A0D5</td>\n",
       "      <td>Jalopiina</td>\n",
       "      <td>unknown</td>\n",
       "      <td>industrial</td>\n",
       "      <td>Springfield</td>\n",
       "      <td>20:09:26</td>\n",
       "      <td>Friday</td>\n",
       "    </tr>\n",
       "    <tr>\n",
       "      <th>61251</th>\n",
       "      <td>321D0506</td>\n",
       "      <td>Freight Train</td>\n",
       "      <td>Chas McDevitt</td>\n",
       "      <td>rock</td>\n",
       "      <td>Springfield</td>\n",
       "      <td>21:43:59</td>\n",
       "      <td>Friday</td>\n",
       "    </tr>\n",
       "    <tr>\n",
       "      <th>61252</th>\n",
       "      <td>3A64EF84</td>\n",
       "      <td>Tell Me Sweet Little Lies</td>\n",
       "      <td>Monica Lopez</td>\n",
       "      <td>country</td>\n",
       "      <td>Springfield</td>\n",
       "      <td>21:59:46</td>\n",
       "      <td>Friday</td>\n",
       "    </tr>\n",
       "  </tbody>\n",
       "</table>\n",
       "<p>42741 rows × 7 columns</p>\n",
       "</div>"
      ],
      "text/plain": [
       "        user_id                          track                   artist  \\\n",
       "1      55204538    Delayed Because of Accident         Andreas Rönnberg   \n",
       "4      E2DC1FAE                    Soul People               Space Echo   \n",
       "6      4CB90AA5                           TRUE             Roman Messer   \n",
       "7      F03E1C1F               Feeling This Way          Polina Griffith   \n",
       "8      8FA1D3BE                       L’estate              Julia Dalia   \n",
       "...         ...                            ...                      ...   \n",
       "61247  83A474E7  I Worship Only What You Bleed  The Black Dahlia Murder   \n",
       "61248  729CBB09                        My Name                   McLean   \n",
       "61250  C5E3A0D5                      Jalopiina                  unknown   \n",
       "61251  321D0506                  Freight Train            Chas McDevitt   \n",
       "61252  3A64EF84      Tell Me Sweet Little Lies             Monica Lopez   \n",
       "\n",
       "              genre         city      time        day  \n",
       "1              rock  Springfield  14:07:09     Friday  \n",
       "4             dance  Springfield   8:34:34     Monday  \n",
       "6             dance  Springfield  13:00:07  Wednesday  \n",
       "7             dance  Springfield  20:47:49  Wednesday  \n",
       "8            ruspop  Springfield   9:17:40     Friday  \n",
       "...             ...          ...       ...        ...  \n",
       "61247  extrememetal  Springfield  21:07:12     Monday  \n",
       "61248           rnb  Springfield  13:32:28  Wednesday  \n",
       "61250    industrial  Springfield  20:09:26     Friday  \n",
       "61251          rock  Springfield  21:43:59     Friday  \n",
       "61252       country  Springfield  21:59:46     Friday  \n",
       "\n",
       "[42741 rows x 7 columns]"
      ]
     },
     "execution_count": 29,
     "metadata": {},
     "output_type": "execute_result"
    }
   ],
   "source": [
    "# obtaining the spr_general table from the df rows, \n",
    "# where the value in the 'city' column is 'Springfield'\n",
    "\n",
    "spr_general = df[df['city'] == 'Springfield']\n",
    "\n",
    "spr_general"
   ]
  },
  {
   "cell_type": "code",
   "execution_count": 30,
   "metadata": {
    "id": "ORaVRKto_Zcu"
   },
   "outputs": [
    {
     "data": {
      "text/html": [
       "<div>\n",
       "<style scoped>\n",
       "    .dataframe tbody tr th:only-of-type {\n",
       "        vertical-align: middle;\n",
       "    }\n",
       "\n",
       "    .dataframe tbody tr th {\n",
       "        vertical-align: top;\n",
       "    }\n",
       "\n",
       "    .dataframe thead th {\n",
       "        text-align: right;\n",
       "    }\n",
       "</style>\n",
       "<table border=\"1\" class=\"dataframe\">\n",
       "  <thead>\n",
       "    <tr style=\"text-align: right;\">\n",
       "      <th></th>\n",
       "      <th>user_id</th>\n",
       "      <th>track</th>\n",
       "      <th>artist</th>\n",
       "      <th>genre</th>\n",
       "      <th>city</th>\n",
       "      <th>time</th>\n",
       "      <th>day</th>\n",
       "    </tr>\n",
       "  </thead>\n",
       "  <tbody>\n",
       "    <tr>\n",
       "      <th>0</th>\n",
       "      <td>FFB692EC</td>\n",
       "      <td>Kamigata To Boots</td>\n",
       "      <td>The Mass Missile</td>\n",
       "      <td>rock</td>\n",
       "      <td>Shelbyville</td>\n",
       "      <td>20:28:33</td>\n",
       "      <td>Wednesday</td>\n",
       "    </tr>\n",
       "    <tr>\n",
       "      <th>2</th>\n",
       "      <td>20EC38</td>\n",
       "      <td>Funiculì funiculà</td>\n",
       "      <td>Mario Lanza</td>\n",
       "      <td>pop</td>\n",
       "      <td>Shelbyville</td>\n",
       "      <td>20:58:07</td>\n",
       "      <td>Wednesday</td>\n",
       "    </tr>\n",
       "    <tr>\n",
       "      <th>3</th>\n",
       "      <td>A3DD03C9</td>\n",
       "      <td>Dragons in the Sunset</td>\n",
       "      <td>Fire + Ice</td>\n",
       "      <td>folk</td>\n",
       "      <td>Shelbyville</td>\n",
       "      <td>8:37:09</td>\n",
       "      <td>Monday</td>\n",
       "    </tr>\n",
       "    <tr>\n",
       "      <th>5</th>\n",
       "      <td>842029A1</td>\n",
       "      <td>Chains</td>\n",
       "      <td>Obladaet</td>\n",
       "      <td>rusrap</td>\n",
       "      <td>Shelbyville</td>\n",
       "      <td>13:09:41</td>\n",
       "      <td>Friday</td>\n",
       "    </tr>\n",
       "    <tr>\n",
       "      <th>9</th>\n",
       "      <td>E772D5C0</td>\n",
       "      <td>Pessimist</td>\n",
       "      <td>unknown</td>\n",
       "      <td>dance</td>\n",
       "      <td>Shelbyville</td>\n",
       "      <td>21:20:49</td>\n",
       "      <td>Wednesday</td>\n",
       "    </tr>\n",
       "    <tr>\n",
       "      <th>...</th>\n",
       "      <td>...</td>\n",
       "      <td>...</td>\n",
       "      <td>...</td>\n",
       "      <td>...</td>\n",
       "      <td>...</td>\n",
       "      <td>...</td>\n",
       "      <td>...</td>\n",
       "    </tr>\n",
       "    <tr>\n",
       "      <th>61239</th>\n",
       "      <td>D94F810B</td>\n",
       "      <td>Theme from the Walking Dead</td>\n",
       "      <td>Proyecto Halloween</td>\n",
       "      <td>film</td>\n",
       "      <td>Shelbyville</td>\n",
       "      <td>21:14:40</td>\n",
       "      <td>Monday</td>\n",
       "    </tr>\n",
       "    <tr>\n",
       "      <th>61240</th>\n",
       "      <td>BC8EC5CF</td>\n",
       "      <td>Red Lips: Gta (Rover Rework)</td>\n",
       "      <td>Rover</td>\n",
       "      <td>electronic</td>\n",
       "      <td>Shelbyville</td>\n",
       "      <td>21:06:50</td>\n",
       "      <td>Monday</td>\n",
       "    </tr>\n",
       "    <tr>\n",
       "      <th>61241</th>\n",
       "      <td>29E04611</td>\n",
       "      <td>Bre Petrunko</td>\n",
       "      <td>Perunika Trio</td>\n",
       "      <td>world</td>\n",
       "      <td>Shelbyville</td>\n",
       "      <td>13:56:00</td>\n",
       "      <td>Monday</td>\n",
       "    </tr>\n",
       "    <tr>\n",
       "      <th>61242</th>\n",
       "      <td>1B91C621</td>\n",
       "      <td>(Hello) Cloud Mountain</td>\n",
       "      <td>sleepmakeswaves</td>\n",
       "      <td>postrock</td>\n",
       "      <td>Shelbyville</td>\n",
       "      <td>9:22:13</td>\n",
       "      <td>Monday</td>\n",
       "    </tr>\n",
       "    <tr>\n",
       "      <th>61249</th>\n",
       "      <td>D08D4A55</td>\n",
       "      <td>Maybe One Day (feat. Black Spade)</td>\n",
       "      <td>Blu &amp; Exile</td>\n",
       "      <td>hiphop</td>\n",
       "      <td>Shelbyville</td>\n",
       "      <td>10:00:00</td>\n",
       "      <td>Monday</td>\n",
       "    </tr>\n",
       "  </tbody>\n",
       "</table>\n",
       "<p>18512 rows × 7 columns</p>\n",
       "</div>"
      ],
      "text/plain": [
       "        user_id                              track              artist  \\\n",
       "0      FFB692EC                  Kamigata To Boots    The Mass Missile   \n",
       "2        20EC38                  Funiculì funiculà         Mario Lanza   \n",
       "3      A3DD03C9              Dragons in the Sunset          Fire + Ice   \n",
       "5      842029A1                             Chains            Obladaet   \n",
       "9      E772D5C0                          Pessimist             unknown   \n",
       "...         ...                                ...                 ...   \n",
       "61239  D94F810B        Theme from the Walking Dead  Proyecto Halloween   \n",
       "61240  BC8EC5CF       Red Lips: Gta (Rover Rework)               Rover   \n",
       "61241  29E04611                       Bre Petrunko       Perunika Trio   \n",
       "61242  1B91C621             (Hello) Cloud Mountain     sleepmakeswaves   \n",
       "61249  D08D4A55  Maybe One Day (feat. Black Spade)         Blu & Exile   \n",
       "\n",
       "            genre         city      time        day  \n",
       "0            rock  Shelbyville  20:28:33  Wednesday  \n",
       "2             pop  Shelbyville  20:58:07  Wednesday  \n",
       "3            folk  Shelbyville   8:37:09     Monday  \n",
       "5          rusrap  Shelbyville  13:09:41     Friday  \n",
       "9           dance  Shelbyville  21:20:49  Wednesday  \n",
       "...           ...          ...       ...        ...  \n",
       "61239        film  Shelbyville  21:14:40     Monday  \n",
       "61240  electronic  Shelbyville  21:06:50     Monday  \n",
       "61241       world  Shelbyville  13:56:00     Monday  \n",
       "61242    postrock  Shelbyville   9:22:13     Monday  \n",
       "61249      hiphop  Shelbyville  10:00:00     Monday  \n",
       "\n",
       "[18512 rows x 7 columns]"
      ]
     },
     "execution_count": 30,
     "metadata": {},
     "output_type": "execute_result"
    }
   ],
   "source": [
    "# obtaining the shel_general from the df rows,\n",
    "# where the value in the 'city' column is 'Shelbyville'\n",
    "\n",
    "shel_general = df[df['city'] == 'Shelbyville']\n",
    "\n",
    "shel_general"
   ]
  },
  {
   "cell_type": "markdown",
   "metadata": {
    "id": "MEJV-CX2_Zcu"
   },
   "source": [
    "Write the `genre_weekday()` function with four parameters:\n",
    "* A table for data\n",
    "* The day of the week\n",
    "* The first timestamp, in 'hh:mm' format\n",
    "* The last timestamp, in 'hh:mm' format\n",
    "\n",
    "The function should return info on the 15 most popular genres on a given day within the period between the two timestamps."
   ]
  },
  {
   "cell_type": "code",
   "execution_count": 31,
   "metadata": {
    "id": "laJT9BYl_Zcu"
   },
   "outputs": [],
   "source": [
    "# Declaring the genre_weekday() function with the parameters day=, time1=, and time2=. It should\n",
    "# return information about the most popular genres on a given day at a given time:\n",
    "\n",
    "# 1) Let the genre_df variable store the rows that meet several conditions:\n",
    "#    - the value in the 'day' column is equal to the value of the day= argument\n",
    "#    - the value in the 'time' column is greater than the value of the time1= argument\n",
    "#    - the value in the 'time' column is smaller than the value of the time2= argument\n",
    "#    Use consecutive filtering with logical indexing.\n",
    "\n",
    "# 2) Group genre_df by the 'genre' column, take one of its columns, \n",
    "#    and use the count() method to find the number of entries for each of \n",
    "#    the represented genres; store the resulting Series to the\n",
    "#    genre_df_count variable\n",
    "\n",
    "# 3) Sort genre_df_count in descending order of frequency and store the result\n",
    "#    to the genre_df_sorted variable\n",
    "\n",
    "# 4) Return a Series object with the first 15 genre_df_sorted value - the 15 most\n",
    "#    popular genres (on a given day, within a certain timeframe)\n",
    "\n",
    "def genre_weekday(df, day, time1, time2):\n",
    "    # consecutive filtering\n",
    "    # genre_df will store only those df rows where the day is equal to day=\n",
    "    genre_df = df[df['day'] == day]\n",
    "    # genre_df will store only those df rows where the time is smaller than time2=\n",
    "    genre_df = genre_df[genre_df['time'] < time2]\n",
    "    # genre_df will store only those df rows where the time is greater than time1=\n",
    "    genre_df = genre_df[genre_df['time'] > time1]\n",
    "    # group the filtered DataFrame by the column with the names of genres, take the genre column, and find the number of rows for each genre with the count() method\n",
    "    genre_df_grouped = genre_df.groupby('genre')['genre'].count()\n",
    "    # we will sort the result in descending order (so that the most popular genres come first in the Series object)\n",
    "    genre_df_sorted = genre_df_grouped.sort_values(ascending=False)\n",
    "    # we will return the Series object storing the 15 most popular genres on a given day in a given timeframe\n",
    "    return genre_df_sorted[:15]"
   ]
  },
  {
   "cell_type": "markdown",
   "metadata": {
    "id": "la2s2_PF_Zcu"
   },
   "source": [
    "Compare the results of the `genre_weekday()` function for Springfield and Shelbyville on Monday morning (from 7AM to 11AM) and on Friday evening (from 17:00 to 23:00):"
   ]
  },
  {
   "cell_type": "code",
   "execution_count": 32,
   "metadata": {
    "id": "yz7itPUQ_Zcu"
   },
   "outputs": [
    {
     "data": {
      "text/plain": [
       "genre\n",
       "dance            6\n",
       "pop              5\n",
       "rock             4\n",
       "electronic       3\n",
       "hiphop           3\n",
       "alternative      2\n",
       "miscellaneous    2\n",
       "soundtrack       2\n",
       "rusrap           2\n",
       "local            2\n",
       "folk             2\n",
       "blues            1\n",
       "latin            1\n",
       "rnb              1\n",
       "jazz             1\n",
       "Name: genre, dtype: int64"
      ]
     },
     "execution_count": 32,
     "metadata": {},
     "output_type": "execute_result"
    }
   ],
   "source": [
    "# calling the function for Monday morning in Springfield (use spr_general instead of the df table)\n",
    "\n",
    "genre_weekday(spr_general, 'Monday', '07:00', '11:00')"
   ]
  },
  {
   "cell_type": "code",
   "execution_count": 33,
   "metadata": {
    "id": "kwUcHPdy_Zcu"
   },
   "outputs": [
    {
     "data": {
      "text/plain": [
       "genre\n",
       "electronic    3\n",
       "pop           3\n",
       "classical     2\n",
       "hiphop        1\n",
       "rusrap        1\n",
       "Name: genre, dtype: int64"
      ]
     },
     "execution_count": 33,
     "metadata": {},
     "output_type": "execute_result"
    }
   ],
   "source": [
    "# calling the function for Monday morning in Shelbyville (use shel_general instead of the df table)\n",
    "\n",
    "genre_weekday(shel_general, 'Monday', '07:00', '11:00')"
   ]
  },
  {
   "cell_type": "code",
   "execution_count": 34,
   "metadata": {
    "id": "EzXVRE1o_Zcu"
   },
   "outputs": [
    {
     "data": {
      "text/plain": [
       "genre\n",
       "pop            713\n",
       "rock           517\n",
       "dance          495\n",
       "electronic     482\n",
       "hiphop         273\n",
       "world          208\n",
       "ruspop         170\n",
       "classical      163\n",
       "alternative    163\n",
       "rusrap         142\n",
       "jazz           111\n",
       "unknown        110\n",
       "soundtrack     105\n",
       "rnb             90\n",
       "metal           88\n",
       "Name: genre, dtype: int64"
      ]
     },
     "execution_count": 34,
     "metadata": {},
     "output_type": "execute_result"
    }
   ],
   "source": [
    "# calling the function for Friday evening in Springfield\n",
    "\n",
    "genre_weekday(spr_general, 'Friday', '17:00', '23:00')"
   ]
  },
  {
   "cell_type": "code",
   "execution_count": 35,
   "metadata": {
    "id": "JZaEKu5v_Zcu"
   },
   "outputs": [
    {
     "data": {
      "text/plain": [
       "genre\n",
       "pop            256\n",
       "rock           216\n",
       "electronic     216\n",
       "dance          210\n",
       "hiphop          97\n",
       "alternative     63\n",
       "jazz            61\n",
       "classical       60\n",
       "rusrap          59\n",
       "world           54\n",
       "unknown         47\n",
       "ruspop          47\n",
       "soundtrack      40\n",
       "metal           39\n",
       "rap             36\n",
       "Name: genre, dtype: int64"
      ]
     },
     "execution_count": 35,
     "metadata": {},
     "output_type": "execute_result"
    }
   ],
   "source": [
    "# calling the function for Friday evening in Shelbyville\n",
    "\n",
    "genre_weekday(shel_general, 'Friday', '17:00', '23:00')"
   ]
  },
  {
   "cell_type": "markdown",
   "metadata": {
    "id": "wrCe4MNX_Zcu"
   },
   "source": [
    "**Conclusion**\n",
    "\n",
    "Having compared the top 15 genres on Monday morning, we can draw the following conclusions:\n",
    "\n",
    "1. Users from Springfield and Shelbyville listen to similar music. The top five genres are the same, only rock and electronic have switched places.\n",
    "\n",
    "2. In Springfield, the number of missing values turned out to be so big that the value `'unknown'` came in 10th. This means that missing values make up a considerable portion of the data, which may be a basis for questioning the reliability of our conclusions.\n",
    "\n",
    "For Friday evening, the situation is similar. Individual genres vary somewhat, but on the whole, the top 15 is similar for the two cities.\n",
    "\n",
    "Thus, the second hypothesis has been partially proven true:\n",
    "* Users listen to similar music at the beginning and end of the week.\n",
    "* There is no major difference between Springfield and Shelbyville. In both cities, pop is the most popular genre.\n",
    "\n",
    "However, the number of missing values makes this result questionable. In Springfield, there are so many that they affect our top 15. Were we not missing these values, things might look different."
   ]
  },
  {
   "cell_type": "markdown",
   "metadata": {
    "id": "jLmXgdanVyhP"
   },
   "source": [
    "[Back to Contents](#back)"
   ]
  },
  {
   "cell_type": "markdown",
   "metadata": {
    "id": "JolODAqr_Zcu"
   },
   "source": [
    "### Hypothesis 3: genre preferences in Springfield and Shelbyville <a id='genre'></a>\n",
    "\n",
    "Hypothesis: Shelbyville loves rap music. Springfield's citizens are more into pop."
   ]
  },
  {
   "cell_type": "markdown",
   "metadata": {
    "id": "DlegSvaT_Zcu"
   },
   "source": [
    "Group the `spr_general` table by genre and find the number of songs played for each genre with the `count()` method. Then sort the result in descending order and store it to `spr_genres`."
   ]
  },
  {
   "cell_type": "code",
   "execution_count": 36,
   "metadata": {
    "id": "r19lIPke_Zcu"
   },
   "outputs": [],
   "source": [
    "# on one line: group the spr_general table by the 'genre' column, \n",
    "# count the 'genre' values with count() in the grouping, \n",
    "# sort the resulting Series in descending order, and store it to spr_genres\n",
    "\n",
    "spr_genres = spr_general.groupby('genre')['track'].count().sort_values(ascending=False)"
   ]
  },
  {
   "cell_type": "markdown",
   "metadata": {
    "id": "6kMuomxTiIr8"
   },
   "source": [
    "Print the first 10 rows from `spr_genres`:"
   ]
  },
  {
   "cell_type": "code",
   "execution_count": 37,
   "metadata": {
    "id": "WhCSooF8_Zcv",
    "scrolled": false
   },
   "outputs": [
    {
     "data": {
      "text/plain": [
       "genre\n",
       "pop            5892\n",
       "dance          4435\n",
       "rock           3965\n",
       "electronic     3786\n",
       "hiphop         2096\n",
       "classical      1616\n",
       "world          1432\n",
       "alternative    1379\n",
       "ruspop         1372\n",
       "rusrap         1161\n",
       "Name: track, dtype: int64"
      ]
     },
     "execution_count": 37,
     "metadata": {},
     "output_type": "execute_result"
    }
   ],
   "source": [
    "# printing the first 10 rows of spr_genres\n",
    "\n",
    "spr_genres.head(10)"
   ]
  },
  {
   "cell_type": "markdown",
   "metadata": {
    "id": "cnPG2vnN_Zcv"
   },
   "source": [
    "Now do the same with the data on Shelbyville.\n",
    "\n",
    "Group the `shel_general` table by genre and find the number of songs played for each genre. Then sort the result in descending order and store it to the `shel_genres` table:\n"
   ]
  },
  {
   "cell_type": "code",
   "execution_count": 38,
   "metadata": {
    "id": "gluLIpE7_Zcv"
   },
   "outputs": [],
   "source": [
    "# on one line: group the shel_general table by the 'genre' column, \n",
    "# count the 'genre' values in the grouping with count(), \n",
    "# sort the resulting Series in descending order and store it to shel_genres\n",
    "\n",
    "shel_genres = shel_general.groupby('genre')['track'].count().sort_values(ascending=False)"
   ]
  },
  {
   "cell_type": "markdown",
   "metadata": {
    "id": "5Doha_ODgyQ8"
   },
   "source": [
    "Print the first 10 rows of `shel_genres`:"
   ]
  },
  {
   "cell_type": "code",
   "execution_count": 39,
   "metadata": {
    "id": "uaGJHjVU_Zcv"
   },
   "outputs": [
    {
     "data": {
      "text/plain": [
       "genre\n",
       "pop            2431\n",
       "dance          1932\n",
       "rock           1879\n",
       "electronic     1736\n",
       "hiphop          960\n",
       "alternative     649\n",
       "classical       646\n",
       "rusrap          564\n",
       "ruspop          538\n",
       "world           515\n",
       "Name: track, dtype: int64"
      ]
     },
     "execution_count": 39,
     "metadata": {},
     "output_type": "execute_result"
    }
   ],
   "source": [
    "# printing the first 10 rows from shel_genres\n",
    "\n",
    "shel_genres.head(10)"
   ]
  },
  {
   "cell_type": "markdown",
   "metadata": {
    "id": "RY51YJYu_Zcv"
   },
   "source": [
    "**Conclusion**"
   ]
  },
  {
   "cell_type": "markdown",
   "metadata": {
    "id": "nVhnJEm__Zcv"
   },
   "source": [
    "The hypothesis has been partially proven true:\n",
    "* Pop music is the most popular genre in Springfield, as expected.\n",
    "* However, pop music turned out to be equally popular in Springfield and Shelbyville, and rap wasn't in the top 5 for either city.\n"
   ]
  },
  {
   "cell_type": "markdown",
   "metadata": {
    "id": "Byr0RfpPVz14"
   },
   "source": [
    "[Back to Contents](#back)"
   ]
  },
  {
   "cell_type": "markdown",
   "metadata": {
    "id": "ykKQ0N65_Zcv"
   },
   "source": [
    "# Findings <a id='end'></a>"
   ]
  },
  {
   "cell_type": "markdown",
   "metadata": {
    "id": "tjUwbHb3_Zcv"
   },
   "source": [
    "We have tested the following three hypotheses:\n",
    "\n",
    "1. User activity differs depending on the day of the week and from city to city. \n",
    "2. On Monday mornings, Springfield and Shelbyville residents listen to different genres. This is also true for Friday evenings. \n",
    "3. Springfield and Shelbyville listeners have different preferences. In both Springfield and Shelbyville, they prefer pop.\n",
    "\n",
    "After analyzing the data, we concluded:\n",
    "\n",
    "1. User activity in Springfield and Shelbyville depends on the day of the week, though the cities vary in different ways. \n",
    "\n",
    "The first hypothesis is fully accepted.\n",
    "\n",
    "2. Musical preferences do not vary significantly over the course of the week in both Springfield and Shelbyville. We can see small differences in order on Mondays, but:\n",
    "* In Springfield and Shelbyville, people listen to pop music most.\n",
    "\n",
    "So we can't accept this hypothesis. We must also keep in mind that the result could have been different if not for the missing values.\n",
    "\n",
    "3. It turns out that the musical preferences of users from Springfield and Shelbyville are quite similar.\n",
    "\n",
    "The third hypothesis is rejected. If there is any difference in preferences, it cannot be seen from this data."
   ]
  },
  {
   "cell_type": "markdown",
   "metadata": {
    "id": "Ju4AHDSgV1FE"
   },
   "source": [
    "[Back to Contents](#back)"
   ]
  }
 ],
 "metadata": {
  "ExecuteTimeLog": [
   {
    "duration": 1013,
    "start_time": "2021-12-13T21:30:54.937Z"
   },
   {
    "duration": 393,
    "start_time": "2021-12-13T21:31:12.186Z"
   },
   {
    "duration": 17,
    "start_time": "2021-12-13T21:31:24.305Z"
   },
   {
    "duration": 32,
    "start_time": "2021-12-13T21:31:45.249Z"
   },
   {
    "duration": 6,
    "start_time": "2021-12-13T21:32:19.603Z"
   },
   {
    "duration": 26,
    "start_time": "2021-12-13T21:32:29.674Z"
   },
   {
    "duration": 5,
    "start_time": "2021-12-13T21:32:38.883Z"
   },
   {
    "duration": 30,
    "start_time": "2021-12-13T21:32:47.268Z"
   },
   {
    "duration": 152,
    "start_time": "2021-12-13T21:32:56.881Z"
   },
   {
    "duration": 31,
    "start_time": "2021-12-13T21:33:07.482Z"
   },
   {
    "duration": 79,
    "start_time": "2021-12-13T21:33:24.972Z"
   },
   {
    "duration": 92,
    "start_time": "2021-12-13T21:33:34.078Z"
   },
   {
    "duration": 73,
    "start_time": "2021-12-13T21:33:43.722Z"
   },
   {
    "duration": 60,
    "start_time": "2021-12-13T21:33:52.851Z"
   },
   {
    "duration": 5,
    "start_time": "2021-12-13T21:34:04.654Z"
   },
   {
    "duration": 14,
    "start_time": "2021-12-13T21:34:17.947Z"
   },
   {
    "duration": 59,
    "start_time": "2021-12-13T21:34:25.627Z"
   },
   {
    "duration": 18,
    "start_time": "2021-12-13T21:34:42.627Z"
   },
   {
    "duration": 17,
    "start_time": "2021-12-13T21:34:50.659Z"
   },
   {
    "duration": 26,
    "start_time": "2021-12-13T21:35:03.564Z"
   },
   {
    "duration": 22,
    "start_time": "2021-12-13T21:35:30.592Z"
   },
   {
    "duration": 19,
    "start_time": "2021-12-13T21:35:39.292Z"
   },
   {
    "duration": 22,
    "start_time": "2021-12-13T21:35:46.203Z"
   },
   {
    "duration": 20,
    "start_time": "2021-12-13T21:35:55.173Z"
   },
   {
    "duration": 23,
    "start_time": "2021-12-13T21:36:02.264Z"
   },
   {
    "duration": 20,
    "start_time": "2021-12-13T21:36:09.380Z"
   },
   {
    "duration": 14,
    "start_time": "2021-12-13T21:36:18.755Z"
   },
   {
    "duration": 30,
    "start_time": "2021-12-13T21:36:32.708Z"
   },
   {
    "duration": 43,
    "start_time": "2021-12-13T21:36:46.072Z"
   },
   {
    "duration": 6,
    "start_time": "2021-12-13T21:36:55.162Z"
   },
   {
    "duration": 6,
    "start_time": "2021-12-13T21:37:15.125Z"
   },
   {
    "duration": 24,
    "start_time": "2021-12-13T21:37:19.059Z"
   },
   {
    "duration": 17,
    "start_time": "2021-12-13T21:37:27.484Z"
   },
   {
    "duration": 26,
    "start_time": "2021-12-13T21:37:30.357Z"
   },
   {
    "duration": 18,
    "start_time": "2021-12-13T21:37:32.573Z"
   },
   {
    "duration": 12,
    "start_time": "2021-12-13T21:37:56.781Z"
   },
   {
    "duration": 7,
    "start_time": "2021-12-13T21:38:08.545Z"
   },
   {
    "duration": 10,
    "start_time": "2021-12-13T21:38:21.043Z"
   },
   {
    "duration": 7,
    "start_time": "2021-12-13T21:38:29.892Z"
   },
   {
    "duration": 779,
    "start_time": "2021-12-13T21:39:10.443Z"
   },
   {
    "duration": 375,
    "start_time": "2021-12-13T21:39:11.225Z"
   },
   {
    "duration": 15,
    "start_time": "2021-12-13T21:39:11.602Z"
   },
   {
    "duration": 51,
    "start_time": "2021-12-13T21:39:11.620Z"
   },
   {
    "duration": 13,
    "start_time": "2021-12-13T21:39:11.674Z"
   },
   {
    "duration": 54,
    "start_time": "2021-12-13T21:39:11.689Z"
   },
   {
    "duration": 17,
    "start_time": "2021-12-13T21:39:11.745Z"
   },
   {
    "duration": 41,
    "start_time": "2021-12-13T21:39:11.765Z"
   },
   {
    "duration": 164,
    "start_time": "2021-12-13T21:39:11.809Z"
   },
   {
    "duration": 30,
    "start_time": "2021-12-13T21:39:11.975Z"
   },
   {
    "duration": 101,
    "start_time": "2021-12-13T21:39:12.008Z"
   },
   {
    "duration": 102,
    "start_time": "2021-12-13T21:39:12.111Z"
   },
   {
    "duration": 87,
    "start_time": "2021-12-13T21:39:12.216Z"
   },
   {
    "duration": 72,
    "start_time": "2021-12-13T21:39:12.305Z"
   },
   {
    "duration": 6,
    "start_time": "2021-12-13T21:39:12.379Z"
   },
   {
    "duration": 37,
    "start_time": "2021-12-13T21:39:12.387Z"
   },
   {
    "duration": 77,
    "start_time": "2021-12-13T21:39:12.427Z"
   },
   {
    "duration": 35,
    "start_time": "2021-12-13T21:39:12.506Z"
   },
   {
    "duration": 29,
    "start_time": "2021-12-13T21:39:12.543Z"
   },
   {
    "duration": 32,
    "start_time": "2021-12-13T21:39:12.575Z"
   },
   {
    "duration": 36,
    "start_time": "2021-12-13T21:39:12.610Z"
   },
   {
    "duration": 33,
    "start_time": "2021-12-13T21:39:12.649Z"
   },
   {
    "duration": 44,
    "start_time": "2021-12-13T21:39:12.689Z"
   },
   {
    "duration": 28,
    "start_time": "2021-12-13T21:39:12.737Z"
   },
   {
    "duration": 45,
    "start_time": "2021-12-13T21:39:12.768Z"
   },
   {
    "duration": 30,
    "start_time": "2021-12-13T21:39:12.816Z"
   },
   {
    "duration": 18,
    "start_time": "2021-12-13T21:39:12.848Z"
   },
   {
    "duration": 51,
    "start_time": "2021-12-13T21:39:12.868Z"
   },
   {
    "duration": 33,
    "start_time": "2021-12-13T21:39:12.922Z"
   },
   {
    "duration": 28,
    "start_time": "2021-12-13T21:39:12.958Z"
   },
   {
    "duration": 77,
    "start_time": "2021-12-13T21:39:12.989Z"
   },
   {
    "duration": 27,
    "start_time": "2021-12-13T21:39:13.068Z"
   },
   {
    "duration": 37,
    "start_time": "2021-12-13T21:39:13.098Z"
   },
   {
    "duration": 27,
    "start_time": "2021-12-13T21:39:13.139Z"
   },
   {
    "duration": 31,
    "start_time": "2021-12-13T21:39:13.169Z"
   },
   {
    "duration": 25,
    "start_time": "2021-12-13T21:39:13.203Z"
   },
   {
    "duration": 26,
    "start_time": "2021-12-13T21:39:13.230Z"
   },
   {
    "duration": 30,
    "start_time": "2021-12-13T21:39:13.259Z"
   },
   {
    "duration": 791,
    "start_time": "2021-12-13T22:06:02.265Z"
   },
   {
    "duration": 388,
    "start_time": "2021-12-13T22:06:03.059Z"
   },
   {
    "duration": 24,
    "start_time": "2021-12-13T22:06:03.450Z"
   },
   {
    "duration": 50,
    "start_time": "2021-12-13T22:06:03.477Z"
   },
   {
    "duration": 13,
    "start_time": "2021-12-13T22:06:03.530Z"
   },
   {
    "duration": 42,
    "start_time": "2021-12-13T22:06:03.546Z"
   },
   {
    "duration": 38,
    "start_time": "2021-12-13T22:06:03.591Z"
   },
   {
    "duration": 43,
    "start_time": "2021-12-13T22:06:03.632Z"
   },
   {
    "duration": 170,
    "start_time": "2021-12-13T22:06:03.680Z"
   },
   {
    "duration": 30,
    "start_time": "2021-12-13T22:06:03.853Z"
   },
   {
    "duration": 101,
    "start_time": "2021-12-13T22:06:03.886Z"
   },
   {
    "duration": 107,
    "start_time": "2021-12-13T22:06:03.989Z"
   },
   {
    "duration": 91,
    "start_time": "2021-12-13T22:06:04.099Z"
   },
   {
    "duration": 61,
    "start_time": "2021-12-13T22:06:04.193Z"
   },
   {
    "duration": 6,
    "start_time": "2021-12-13T22:06:04.268Z"
   },
   {
    "duration": 37,
    "start_time": "2021-12-13T22:06:04.276Z"
   },
   {
    "duration": 69,
    "start_time": "2021-12-13T22:06:04.315Z"
   },
   {
    "duration": 16,
    "start_time": "2021-12-13T22:06:04.387Z"
   },
   {
    "duration": 29,
    "start_time": "2021-12-13T22:06:04.406Z"
   },
   {
    "duration": 31,
    "start_time": "2021-12-13T22:06:04.438Z"
   },
   {
    "duration": 20,
    "start_time": "2021-12-13T22:06:04.472Z"
   },
   {
    "duration": 27,
    "start_time": "2021-12-13T22:06:04.494Z"
   },
   {
    "duration": 53,
    "start_time": "2021-12-13T22:06:04.523Z"
   },
   {
    "duration": 25,
    "start_time": "2021-12-13T22:06:04.578Z"
   },
   {
    "duration": 22,
    "start_time": "2021-12-13T22:06:04.606Z"
   },
   {
    "duration": 52,
    "start_time": "2021-12-13T22:06:04.631Z"
   },
   {
    "duration": 14,
    "start_time": "2021-12-13T22:06:04.689Z"
   },
   {
    "duration": 60,
    "start_time": "2021-12-13T22:06:04.706Z"
   },
   {
    "duration": 29,
    "start_time": "2021-12-13T22:06:04.769Z"
   },
   {
    "duration": 5,
    "start_time": "2021-12-13T22:06:04.801Z"
   },
   {
    "duration": 29,
    "start_time": "2021-12-13T22:06:04.809Z"
   },
   {
    "duration": 18,
    "start_time": "2021-12-13T22:06:04.867Z"
   },
   {
    "duration": 26,
    "start_time": "2021-12-13T22:06:04.887Z"
   },
   {
    "duration": 52,
    "start_time": "2021-12-13T22:06:04.916Z"
   },
   {
    "duration": 15,
    "start_time": "2021-12-13T22:06:04.971Z"
   },
   {
    "duration": 8,
    "start_time": "2021-12-13T22:06:04.989Z"
   },
   {
    "duration": 10,
    "start_time": "2021-12-13T22:06:05.000Z"
   },
   {
    "duration": 10,
    "start_time": "2021-12-13T22:06:05.013Z"
   },
   {
    "duration": 807,
    "start_time": "2021-12-14T09:16:50.480Z"
   },
   {
    "duration": 3523,
    "start_time": "2021-12-14T09:16:51.289Z"
   },
   {
    "duration": -203,
    "start_time": "2021-12-14T09:16:55.019Z"
   },
   {
    "duration": -204,
    "start_time": "2021-12-14T09:16:55.021Z"
   },
   {
    "duration": -203,
    "start_time": "2021-12-14T09:16:55.022Z"
   },
   {
    "duration": -203,
    "start_time": "2021-12-14T09:16:55.023Z"
   },
   {
    "duration": -203,
    "start_time": "2021-12-14T09:16:55.024Z"
   },
   {
    "duration": -202,
    "start_time": "2021-12-14T09:16:55.025Z"
   },
   {
    "duration": -230,
    "start_time": "2021-12-14T09:16:55.054Z"
   },
   {
    "duration": -231,
    "start_time": "2021-12-14T09:16:55.057Z"
   },
   {
    "duration": -232,
    "start_time": "2021-12-14T09:16:55.059Z"
   },
   {
    "duration": -232,
    "start_time": "2021-12-14T09:16:55.061Z"
   },
   {
    "duration": -232,
    "start_time": "2021-12-14T09:16:55.062Z"
   },
   {
    "duration": -232,
    "start_time": "2021-12-14T09:16:55.063Z"
   },
   {
    "duration": -236,
    "start_time": "2021-12-14T09:16:55.069Z"
   },
   {
    "duration": -242,
    "start_time": "2021-12-14T09:16:55.076Z"
   },
   {
    "duration": -242,
    "start_time": "2021-12-14T09:16:55.078Z"
   },
   {
    "duration": -242,
    "start_time": "2021-12-14T09:16:55.079Z"
   },
   {
    "duration": -241,
    "start_time": "2021-12-14T09:16:55.080Z"
   },
   {
    "duration": -241,
    "start_time": "2021-12-14T09:16:55.081Z"
   },
   {
    "duration": -241,
    "start_time": "2021-12-14T09:16:55.082Z"
   },
   {
    "duration": -241,
    "start_time": "2021-12-14T09:16:55.083Z"
   },
   {
    "duration": -248,
    "start_time": "2021-12-14T09:16:55.092Z"
   },
   {
    "duration": -249,
    "start_time": "2021-12-14T09:16:55.094Z"
   },
   {
    "duration": -249,
    "start_time": "2021-12-14T09:16:55.095Z"
   },
   {
    "duration": -249,
    "start_time": "2021-12-14T09:16:55.096Z"
   },
   {
    "duration": -249,
    "start_time": "2021-12-14T09:16:55.098Z"
   },
   {
    "duration": -255,
    "start_time": "2021-12-14T09:16:55.105Z"
   },
   {
    "duration": -256,
    "start_time": "2021-12-14T09:16:55.107Z"
   },
   {
    "duration": -255,
    "start_time": "2021-12-14T09:16:55.107Z"
   },
   {
    "duration": -256,
    "start_time": "2021-12-14T09:16:55.109Z"
   },
   {
    "duration": -255,
    "start_time": "2021-12-14T09:16:55.110Z"
   },
   {
    "duration": -255,
    "start_time": "2021-12-14T09:16:55.111Z"
   },
   {
    "duration": -255,
    "start_time": "2021-12-14T09:16:55.112Z"
   },
   {
    "duration": -255,
    "start_time": "2021-12-14T09:16:55.113Z"
   },
   {
    "duration": -260,
    "start_time": "2021-12-14T09:16:55.119Z"
   },
   {
    "duration": -204,
    "start_time": "2021-12-14T09:16:55.121Z"
   },
   {
    "duration": -204,
    "start_time": "2021-12-14T09:16:55.122Z"
   },
   {
    "duration": 726,
    "start_time": "2021-12-15T07:49:58.876Z"
   },
   {
    "duration": 592,
    "start_time": "2021-12-15T07:49:59.605Z"
   },
   {
    "duration": 31,
    "start_time": "2021-12-15T07:50:00.200Z"
   },
   {
    "duration": 32,
    "start_time": "2021-12-15T07:50:00.234Z"
   },
   {
    "duration": 5,
    "start_time": "2021-12-15T07:50:00.269Z"
   },
   {
    "duration": 51,
    "start_time": "2021-12-15T07:50:00.276Z"
   },
   {
    "duration": 5,
    "start_time": "2021-12-15T07:50:00.329Z"
   },
   {
    "duration": 42,
    "start_time": "2021-12-15T07:50:00.336Z"
   },
   {
    "duration": 147,
    "start_time": "2021-12-15T07:50:00.382Z"
   },
   {
    "duration": 29,
    "start_time": "2021-12-15T07:50:00.532Z"
   },
   {
    "duration": 90,
    "start_time": "2021-12-15T07:50:00.563Z"
   },
   {
    "duration": 95,
    "start_time": "2021-12-15T07:50:00.656Z"
   },
   {
    "duration": 75,
    "start_time": "2021-12-15T07:50:00.754Z"
   },
   {
    "duration": 57,
    "start_time": "2021-12-15T07:50:00.831Z"
   },
   {
    "duration": 5,
    "start_time": "2021-12-15T07:50:00.890Z"
   },
   {
    "duration": 33,
    "start_time": "2021-12-15T07:50:00.897Z"
   },
   {
    "duration": 61,
    "start_time": "2021-12-15T07:50:00.932Z"
   },
   {
    "duration": 37,
    "start_time": "2021-12-15T07:50:00.996Z"
   },
   {
    "duration": 14,
    "start_time": "2021-12-15T07:50:01.035Z"
   },
   {
    "duration": 24,
    "start_time": "2021-12-15T07:50:01.051Z"
   },
   {
    "duration": 46,
    "start_time": "2021-12-15T07:50:01.077Z"
   },
   {
    "duration": 24,
    "start_time": "2021-12-15T07:50:01.126Z"
   },
   {
    "duration": 31,
    "start_time": "2021-12-15T07:50:01.153Z"
   },
   {
    "duration": 22,
    "start_time": "2021-12-15T07:50:01.188Z"
   },
   {
    "duration": 23,
    "start_time": "2021-12-15T07:50:01.223Z"
   },
   {
    "duration": 38,
    "start_time": "2021-12-15T07:50:01.249Z"
   },
   {
    "duration": 13,
    "start_time": "2021-12-15T07:50:01.292Z"
   },
   {
    "duration": 51,
    "start_time": "2021-12-15T07:50:01.307Z"
   },
   {
    "duration": 26,
    "start_time": "2021-12-15T07:50:01.360Z"
   },
   {
    "duration": 6,
    "start_time": "2021-12-15T07:50:01.388Z"
   },
   {
    "duration": 41,
    "start_time": "2021-12-15T07:50:01.396Z"
   },
   {
    "duration": 14,
    "start_time": "2021-12-15T07:50:01.439Z"
   },
   {
    "duration": 21,
    "start_time": "2021-12-15T07:50:01.456Z"
   },
   {
    "duration": 46,
    "start_time": "2021-12-15T07:50:01.480Z"
   },
   {
    "duration": 11,
    "start_time": "2021-12-15T07:50:01.529Z"
   },
   {
    "duration": 28,
    "start_time": "2021-12-15T07:50:01.542Z"
   },
   {
    "duration": 20,
    "start_time": "2021-12-15T07:50:01.573Z"
   },
   {
    "duration": 10,
    "start_time": "2021-12-15T07:50:01.595Z"
   },
   {
    "duration": 5,
    "start_time": "2021-12-15T07:55:52.145Z"
   },
   {
    "duration": 19,
    "start_time": "2021-12-15T07:56:40.765Z"
   },
   {
    "duration": 18,
    "start_time": "2021-12-15T07:56:46.027Z"
   },
   {
    "duration": 11,
    "start_time": "2021-12-15T07:58:17.619Z"
   },
   {
    "duration": 886,
    "start_time": "2021-12-15T16:19:45.030Z"
   },
   {
    "duration": 651,
    "start_time": "2021-12-15T16:19:58.459Z"
   },
   {
    "duration": 465,
    "start_time": "2021-12-15T16:19:59.112Z"
   },
   {
    "duration": 10,
    "start_time": "2021-12-15T16:19:59.580Z"
   },
   {
    "duration": 27,
    "start_time": "2021-12-15T16:19:59.592Z"
   },
   {
    "duration": 5,
    "start_time": "2021-12-15T16:19:59.621Z"
   },
   {
    "duration": 39,
    "start_time": "2021-12-15T16:19:59.628Z"
   },
   {
    "duration": 3,
    "start_time": "2021-12-15T16:19:59.669Z"
   },
   {
    "duration": 24,
    "start_time": "2021-12-15T16:19:59.675Z"
   },
   {
    "duration": 311,
    "start_time": "2021-12-15T16:19:59.701Z"
   },
   {
    "duration": 206,
    "start_time": "2021-12-15T16:19:59.808Z"
   },
   {
    "duration": 202,
    "start_time": "2021-12-15T16:19:59.813Z"
   },
   {
    "duration": 197,
    "start_time": "2021-12-15T16:19:59.818Z"
   },
   {
    "duration": 197,
    "start_time": "2021-12-15T16:19:59.819Z"
   },
   {
    "duration": 193,
    "start_time": "2021-12-15T16:19:59.824Z"
   },
   {
    "duration": 192,
    "start_time": "2021-12-15T16:19:59.826Z"
   },
   {
    "duration": 192,
    "start_time": "2021-12-15T16:19:59.827Z"
   },
   {
    "duration": 187,
    "start_time": "2021-12-15T16:19:59.832Z"
   },
   {
    "duration": 187,
    "start_time": "2021-12-15T16:19:59.833Z"
   },
   {
    "duration": 184,
    "start_time": "2021-12-15T16:19:59.838Z"
   },
   {
    "duration": 183,
    "start_time": "2021-12-15T16:19:59.839Z"
   },
   {
    "duration": 183,
    "start_time": "2021-12-15T16:19:59.840Z"
   },
   {
    "duration": 179,
    "start_time": "2021-12-15T16:19:59.845Z"
   },
   {
    "duration": 180,
    "start_time": "2021-12-15T16:19:59.846Z"
   },
   {
    "duration": 179,
    "start_time": "2021-12-15T16:19:59.848Z"
   },
   {
    "duration": 174,
    "start_time": "2021-12-15T16:19:59.853Z"
   },
   {
    "duration": 101,
    "start_time": "2021-12-15T16:19:59.927Z"
   },
   {
    "duration": 87,
    "start_time": "2021-12-15T16:19:59.942Z"
   },
   {
    "duration": 87,
    "start_time": "2021-12-15T16:19:59.943Z"
   },
   {
    "duration": 86,
    "start_time": "2021-12-15T16:19:59.945Z"
   },
   {
    "duration": 82,
    "start_time": "2021-12-15T16:19:59.950Z"
   },
   {
    "duration": 81,
    "start_time": "2021-12-15T16:19:59.952Z"
   },
   {
    "duration": 77,
    "start_time": "2021-12-15T16:19:59.957Z"
   },
   {
    "duration": 76,
    "start_time": "2021-12-15T16:19:59.959Z"
   },
   {
    "duration": 55,
    "start_time": "2021-12-15T16:19:59.981Z"
   },
   {
    "duration": 51,
    "start_time": "2021-12-15T16:19:59.987Z"
   },
   {
    "duration": 47,
    "start_time": "2021-12-15T16:19:59.992Z"
   },
   {
    "duration": 44,
    "start_time": "2021-12-15T16:19:59.996Z"
   },
   {
    "duration": 39,
    "start_time": "2021-12-15T16:20:00.002Z"
   },
   {
    "duration": 32,
    "start_time": "2021-12-15T16:20:00.010Z"
   },
   {
    "duration": 23,
    "start_time": "2021-12-15T16:20:00.020Z"
   },
   {
    "duration": 22,
    "start_time": "2021-12-15T16:20:00.022Z"
   },
   {
    "duration": 45,
    "start_time": "2021-12-15T16:21:11.313Z"
   },
   {
    "duration": 22,
    "start_time": "2021-12-15T16:21:26.597Z"
   },
   {
    "duration": 265,
    "start_time": "2021-12-15T16:23:21.168Z"
   },
   {
    "duration": 263,
    "start_time": "2021-12-15T16:31:26.417Z"
   },
   {
    "duration": 4,
    "start_time": "2021-12-15T16:36:07.203Z"
   },
   {
    "duration": 24,
    "start_time": "2021-12-15T16:37:06.655Z"
   },
   {
    "duration": 21,
    "start_time": "2021-12-15T16:52:52.509Z"
   },
   {
    "duration": 21,
    "start_time": "2021-12-15T16:52:58.089Z"
   },
   {
    "duration": 22,
    "start_time": "2021-12-15T16:53:04.298Z"
   },
   {
    "duration": 22,
    "start_time": "2021-12-15T16:53:17.313Z"
   },
   {
    "duration": 22,
    "start_time": "2021-12-15T16:53:21.305Z"
   },
   {
    "duration": 276,
    "start_time": "2021-12-15T16:54:18.433Z"
   },
   {
    "duration": 262,
    "start_time": "2021-12-15T16:54:30.360Z"
   },
   {
    "duration": 38,
    "start_time": "2021-12-15T16:54:39.274Z"
   },
   {
    "duration": 261,
    "start_time": "2021-12-15T16:55:31.443Z"
   },
   {
    "duration": 268,
    "start_time": "2021-12-15T16:59:05.371Z"
   },
   {
    "duration": 265,
    "start_time": "2021-12-15T17:06:46.855Z"
   },
   {
    "duration": 91,
    "start_time": "2021-12-15T17:09:34.722Z"
   },
   {
    "duration": 6893,
    "start_time": "2021-12-15T17:09:39.556Z"
   },
   {
    "duration": 100,
    "start_time": "2021-12-15T17:09:46.352Z"
   },
   {
    "duration": 17,
    "start_time": "2021-12-15T17:10:39.295Z"
   },
   {
    "duration": 18,
    "start_time": "2021-12-15T17:11:04.363Z"
   },
   {
    "duration": 25,
    "start_time": "2021-12-15T17:11:15.149Z"
   },
   {
    "duration": 85,
    "start_time": "2021-12-15T17:16:04.769Z"
   },
   {
    "duration": 89,
    "start_time": "2021-12-15T17:16:15.745Z"
   },
   {
    "duration": 91,
    "start_time": "2021-12-15T17:24:46.834Z"
   },
   {
    "duration": 109,
    "start_time": "2021-12-15T17:25:00.728Z"
   },
   {
    "duration": 600,
    "start_time": "2021-12-15T17:25:34.955Z"
   },
   {
    "duration": 536,
    "start_time": "2021-12-15T17:26:01.004Z"
   },
   {
    "duration": 11,
    "start_time": "2021-12-15T17:37:01.131Z"
   },
   {
    "duration": 9,
    "start_time": "2021-12-15T17:37:16.768Z"
   },
   {
    "duration": 29,
    "start_time": "2021-12-15T17:37:22.501Z"
   },
   {
    "duration": 10,
    "start_time": "2021-12-15T17:37:39.618Z"
   },
   {
    "duration": 23,
    "start_time": "2021-12-15T17:37:44.745Z"
   },
   {
    "duration": 99,
    "start_time": "2021-12-15T17:39:28.250Z"
   },
   {
    "duration": 23,
    "start_time": "2021-12-15T17:39:32.904Z"
   },
   {
    "duration": 334,
    "start_time": "2021-12-15T17:46:17.845Z"
   },
   {
    "duration": 294,
    "start_time": "2021-12-15T17:47:30.845Z"
   },
   {
    "duration": 253,
    "start_time": "2021-12-15T17:48:41.423Z"
   },
   {
    "duration": 6784,
    "start_time": "2021-12-15T17:49:16.646Z"
   },
   {
    "duration": -448,
    "start_time": "2021-12-15T17:49:23.880Z"
   },
   {
    "duration": 22,
    "start_time": "2021-12-15T17:49:26.286Z"
   },
   {
    "duration": 6261,
    "start_time": "2021-12-15T17:52:33.543Z"
   },
   {
    "duration": -275,
    "start_time": "2021-12-15T17:52:40.081Z"
   },
   {
    "duration": 6343,
    "start_time": "2021-12-15T17:53:48.575Z"
   },
   {
    "duration": 24,
    "start_time": "2021-12-15T17:53:55.460Z"
   },
   {
    "duration": 6584,
    "start_time": "2021-12-15T17:54:33.225Z"
   },
   {
    "duration": 23,
    "start_time": "2021-12-15T17:54:41.687Z"
   },
   {
    "duration": 298,
    "start_time": "2021-12-15T17:56:07.279Z"
   },
   {
    "duration": 94,
    "start_time": "2021-12-15T17:56:34.567Z"
   },
   {
    "duration": 281,
    "start_time": "2021-12-15T18:00:39.268Z"
   },
   {
    "duration": 15,
    "start_time": "2021-12-15T18:01:15.549Z"
   },
   {
    "duration": 46,
    "start_time": "2021-12-15T18:02:34.212Z"
   },
   {
    "duration": 270,
    "start_time": "2021-12-15T18:04:52.294Z"
   },
   {
    "duration": 3359,
    "start_time": "2021-12-15T18:07:51.688Z"
   },
   {
    "duration": 51,
    "start_time": "2021-12-15T18:11:07.251Z"
   },
   {
    "duration": 32,
    "start_time": "2021-12-15T18:11:16.933Z"
   },
   {
    "duration": 638,
    "start_time": "2021-12-15T18:11:29.825Z"
   },
   {
    "duration": 470,
    "start_time": "2021-12-15T18:11:30.465Z"
   },
   {
    "duration": 11,
    "start_time": "2021-12-15T18:11:30.938Z"
   },
   {
    "duration": 36,
    "start_time": "2021-12-15T18:11:30.951Z"
   },
   {
    "duration": 5,
    "start_time": "2021-12-15T18:11:30.990Z"
   },
   {
    "duration": 26,
    "start_time": "2021-12-15T18:11:30.997Z"
   },
   {
    "duration": 5,
    "start_time": "2021-12-15T18:11:31.025Z"
   },
   {
    "duration": 53,
    "start_time": "2021-12-15T18:11:31.032Z"
   },
   {
    "duration": 74,
    "start_time": "2021-12-15T18:11:31.089Z"
   },
   {
    "duration": 314,
    "start_time": "2021-12-15T18:11:31.166Z"
   },
   {
    "duration": 259,
    "start_time": "2021-12-15T18:11:31.223Z"
   },
   {
    "duration": 259,
    "start_time": "2021-12-15T18:11:31.225Z"
   },
   {
    "duration": 258,
    "start_time": "2021-12-15T18:11:31.227Z"
   },
   {
    "duration": 258,
    "start_time": "2021-12-15T18:11:31.228Z"
   },
   {
    "duration": 248,
    "start_time": "2021-12-15T18:11:31.240Z"
   },
   {
    "duration": 247,
    "start_time": "2021-12-15T18:11:31.242Z"
   },
   {
    "duration": 244,
    "start_time": "2021-12-15T18:11:31.247Z"
   },
   {
    "duration": 243,
    "start_time": "2021-12-15T18:11:31.249Z"
   },
   {
    "duration": 239,
    "start_time": "2021-12-15T18:11:31.254Z"
   },
   {
    "duration": 239,
    "start_time": "2021-12-15T18:11:31.256Z"
   },
   {
    "duration": 236,
    "start_time": "2021-12-15T18:11:31.260Z"
   },
   {
    "duration": 235,
    "start_time": "2021-12-15T18:11:31.262Z"
   },
   {
    "duration": 232,
    "start_time": "2021-12-15T18:11:31.267Z"
   },
   {
    "duration": 231,
    "start_time": "2021-12-15T18:11:31.269Z"
   },
   {
    "duration": 232,
    "start_time": "2021-12-15T18:11:31.270Z"
   },
   {
    "duration": 228,
    "start_time": "2021-12-15T18:11:31.275Z"
   },
   {
    "duration": 227,
    "start_time": "2021-12-15T18:11:31.277Z"
   },
   {
    "duration": 225,
    "start_time": "2021-12-15T18:11:31.281Z"
   },
   {
    "duration": 224,
    "start_time": "2021-12-15T18:11:31.283Z"
   },
   {
    "duration": 221,
    "start_time": "2021-12-15T18:11:31.288Z"
   },
   {
    "duration": 220,
    "start_time": "2021-12-15T18:11:31.290Z"
   },
   {
    "duration": 161,
    "start_time": "2021-12-15T18:11:31.350Z"
   },
   {
    "duration": 161,
    "start_time": "2021-12-15T18:11:31.352Z"
   },
   {
    "duration": 162,
    "start_time": "2021-12-15T18:11:31.353Z"
   },
   {
    "duration": 158,
    "start_time": "2021-12-15T18:11:31.358Z"
   },
   {
    "duration": 158,
    "start_time": "2021-12-15T18:11:31.360Z"
   },
   {
    "duration": 198,
    "start_time": "2021-12-15T18:11:31.364Z"
   },
   {
    "duration": 198,
    "start_time": "2021-12-15T18:11:31.366Z"
   },
   {
    "duration": 198,
    "start_time": "2021-12-15T18:11:31.367Z"
   },
   {
    "duration": 194,
    "start_time": "2021-12-15T18:11:31.373Z"
   },
   {
    "duration": 190,
    "start_time": "2021-12-15T18:11:31.378Z"
   },
   {
    "duration": 50,
    "start_time": "2021-12-15T18:12:02.486Z"
   },
   {
    "duration": 22,
    "start_time": "2021-12-15T18:12:09.228Z"
   },
   {
    "duration": 46,
    "start_time": "2021-12-15T18:12:17.148Z"
   },
   {
    "duration": 630,
    "start_time": "2021-12-15T18:12:31.749Z"
   },
   {
    "duration": 465,
    "start_time": "2021-12-15T18:12:32.381Z"
   },
   {
    "duration": 19,
    "start_time": "2021-12-15T18:12:32.848Z"
   },
   {
    "duration": 40,
    "start_time": "2021-12-15T18:12:32.869Z"
   },
   {
    "duration": 4,
    "start_time": "2021-12-15T18:12:32.911Z"
   },
   {
    "duration": 22,
    "start_time": "2021-12-15T18:12:32.917Z"
   },
   {
    "duration": 24,
    "start_time": "2021-12-15T18:12:32.941Z"
   },
   {
    "duration": 30,
    "start_time": "2021-12-15T18:12:32.968Z"
   },
   {
    "duration": 416,
    "start_time": "2021-12-15T18:12:33.000Z"
   },
   {
    "duration": 210,
    "start_time": "2021-12-15T18:12:33.209Z"
   },
   {
    "duration": 206,
    "start_time": "2021-12-15T18:12:33.214Z"
   },
   {
    "duration": 206,
    "start_time": "2021-12-15T18:12:33.215Z"
   },
   {
    "duration": 206,
    "start_time": "2021-12-15T18:12:33.217Z"
   },
   {
    "duration": 203,
    "start_time": "2021-12-15T18:12:33.221Z"
   },
   {
    "duration": 202,
    "start_time": "2021-12-15T18:12:33.223Z"
   },
   {
    "duration": 198,
    "start_time": "2021-12-15T18:12:33.228Z"
   },
   {
    "duration": 197,
    "start_time": "2021-12-15T18:12:33.230Z"
   },
   {
    "duration": 193,
    "start_time": "2021-12-15T18:12:33.235Z"
   },
   {
    "duration": 192,
    "start_time": "2021-12-15T18:12:33.237Z"
   },
   {
    "duration": 192,
    "start_time": "2021-12-15T18:12:33.238Z"
   },
   {
    "duration": 191,
    "start_time": "2021-12-15T18:12:33.240Z"
   },
   {
    "duration": 191,
    "start_time": "2021-12-15T18:12:33.241Z"
   },
   {
    "duration": 185,
    "start_time": "2021-12-15T18:12:33.249Z"
   },
   {
    "duration": 184,
    "start_time": "2021-12-15T18:12:33.251Z"
   },
   {
    "duration": 180,
    "start_time": "2021-12-15T18:12:33.256Z"
   },
   {
    "duration": 179,
    "start_time": "2021-12-15T18:12:33.258Z"
   },
   {
    "duration": -74,
    "start_time": "2021-12-15T18:12:33.512Z"
   },
   {
    "duration": -78,
    "start_time": "2021-12-15T18:12:33.518Z"
   },
   {
    "duration": -80,
    "start_time": "2021-12-15T18:12:33.520Z"
   },
   {
    "duration": -80,
    "start_time": "2021-12-15T18:12:33.521Z"
   },
   {
    "duration": -80,
    "start_time": "2021-12-15T18:12:33.523Z"
   },
   {
    "duration": -81,
    "start_time": "2021-12-15T18:12:33.524Z"
   },
   {
    "duration": -82,
    "start_time": "2021-12-15T18:12:33.526Z"
   },
   {
    "duration": -83,
    "start_time": "2021-12-15T18:12:33.527Z"
   },
   {
    "duration": -83,
    "start_time": "2021-12-15T18:12:33.528Z"
   },
   {
    "duration": -84,
    "start_time": "2021-12-15T18:12:33.530Z"
   },
   {
    "duration": -84,
    "start_time": "2021-12-15T18:12:33.531Z"
   },
   {
    "duration": -85,
    "start_time": "2021-12-15T18:12:33.533Z"
   },
   {
    "duration": -85,
    "start_time": "2021-12-15T18:12:33.534Z"
   },
   {
    "duration": -86,
    "start_time": "2021-12-15T18:12:33.536Z"
   },
   {
    "duration": -87,
    "start_time": "2021-12-15T18:12:33.537Z"
   },
   {
    "duration": 592,
    "start_time": "2021-12-15T18:13:07.719Z"
   },
   {
    "duration": 602,
    "start_time": "2021-12-15T18:13:08.314Z"
   },
   {
    "duration": 16,
    "start_time": "2021-12-15T18:13:08.919Z"
   },
   {
    "duration": 51,
    "start_time": "2021-12-15T18:13:08.938Z"
   },
   {
    "duration": 3,
    "start_time": "2021-12-15T18:13:08.992Z"
   },
   {
    "duration": 24,
    "start_time": "2021-12-15T18:13:08.997Z"
   },
   {
    "duration": 7,
    "start_time": "2021-12-15T18:13:09.023Z"
   },
   {
    "duration": 44,
    "start_time": "2021-12-15T18:13:09.033Z"
   },
   {
    "duration": 325,
    "start_time": "2021-12-15T18:13:09.080Z"
   },
   {
    "duration": 261,
    "start_time": "2021-12-15T18:13:09.147Z"
   },
   {
    "duration": 257,
    "start_time": "2021-12-15T18:13:09.152Z"
   },
   {
    "duration": 256,
    "start_time": "2021-12-15T18:13:09.154Z"
   },
   {
    "duration": 257,
    "start_time": "2021-12-15T18:13:09.155Z"
   },
   {
    "duration": 256,
    "start_time": "2021-12-15T18:13:09.157Z"
   },
   {
    "duration": 256,
    "start_time": "2021-12-15T18:13:09.158Z"
   },
   {
    "duration": 256,
    "start_time": "2021-12-15T18:13:09.160Z"
   },
   {
    "duration": 252,
    "start_time": "2021-12-15T18:13:09.165Z"
   },
   {
    "duration": 250,
    "start_time": "2021-12-15T18:13:09.168Z"
   },
   {
    "duration": 250,
    "start_time": "2021-12-15T18:13:09.170Z"
   },
   {
    "duration": 249,
    "start_time": "2021-12-15T18:13:09.172Z"
   },
   {
    "duration": 243,
    "start_time": "2021-12-15T18:13:09.179Z"
   },
   {
    "duration": 243,
    "start_time": "2021-12-15T18:13:09.181Z"
   },
   {
    "duration": 242,
    "start_time": "2021-12-15T18:13:09.183Z"
   },
   {
    "duration": 241,
    "start_time": "2021-12-15T18:13:09.185Z"
   },
   {
    "duration": 241,
    "start_time": "2021-12-15T18:13:09.187Z"
   },
   {
    "duration": 240,
    "start_time": "2021-12-15T18:13:09.189Z"
   },
   {
    "duration": 240,
    "start_time": "2021-12-15T18:13:09.190Z"
   },
   {
    "duration": 173,
    "start_time": "2021-12-15T18:13:09.259Z"
   },
   {
    "duration": 161,
    "start_time": "2021-12-15T18:13:09.272Z"
   },
   {
    "duration": 160,
    "start_time": "2021-12-15T18:13:09.274Z"
   },
   {
    "duration": 162,
    "start_time": "2021-12-15T18:13:09.275Z"
   },
   {
    "duration": 161,
    "start_time": "2021-12-15T18:13:09.277Z"
   },
   {
    "duration": 146,
    "start_time": "2021-12-15T18:13:09.293Z"
   },
   {
    "duration": 146,
    "start_time": "2021-12-15T18:13:09.294Z"
   },
   {
    "duration": 145,
    "start_time": "2021-12-15T18:13:09.296Z"
   },
   {
    "duration": 145,
    "start_time": "2021-12-15T18:13:09.297Z"
   },
   {
    "duration": 144,
    "start_time": "2021-12-15T18:13:09.299Z"
   },
   {
    "duration": 144,
    "start_time": "2021-12-15T18:13:09.300Z"
   },
   {
    "duration": 144,
    "start_time": "2021-12-15T18:13:09.301Z"
   },
   {
    "duration": 143,
    "start_time": "2021-12-15T18:13:09.303Z"
   },
   {
    "duration": 143,
    "start_time": "2021-12-15T18:13:09.304Z"
   },
   {
    "duration": 47,
    "start_time": "2021-12-15T18:13:46.594Z"
   },
   {
    "duration": 23,
    "start_time": "2021-12-15T18:13:54.431Z"
   },
   {
    "duration": 824,
    "start_time": "2021-12-15T18:14:00.347Z"
   },
   {
    "duration": 459,
    "start_time": "2021-12-15T18:14:01.174Z"
   },
   {
    "duration": 11,
    "start_time": "2021-12-15T18:14:01.635Z"
   },
   {
    "duration": 35,
    "start_time": "2021-12-15T18:14:01.649Z"
   },
   {
    "duration": 38,
    "start_time": "2021-12-15T18:14:01.686Z"
   },
   {
    "duration": 39,
    "start_time": "2021-12-15T18:14:01.726Z"
   },
   {
    "duration": 31,
    "start_time": "2021-12-15T18:14:01.767Z"
   },
   {
    "duration": 53,
    "start_time": "2021-12-15T18:14:01.800Z"
   },
   {
    "duration": 63,
    "start_time": "2021-12-15T18:14:01.856Z"
   },
   {
    "duration": 3,
    "start_time": "2021-12-15T18:14:01.922Z"
   },
   {
    "duration": 43,
    "start_time": "2021-12-15T18:14:01.927Z"
   },
   {
    "duration": 128,
    "start_time": "2021-12-15T18:14:01.972Z"
   },
   {
    "duration": 119,
    "start_time": "2021-12-15T18:14:02.102Z"
   },
   {
    "duration": 102,
    "start_time": "2021-12-15T18:14:02.224Z"
   },
   {
    "duration": 44,
    "start_time": "2021-12-15T18:14:02.330Z"
   },
   {
    "duration": 21,
    "start_time": "2021-12-15T18:14:02.376Z"
   },
   {
    "duration": 32,
    "start_time": "2021-12-15T18:14:02.399Z"
   },
   {
    "duration": 58,
    "start_time": "2021-12-15T18:14:02.432Z"
   },
   {
    "duration": 14,
    "start_time": "2021-12-15T18:14:02.492Z"
   },
   {
    "duration": 32,
    "start_time": "2021-12-15T18:14:02.508Z"
   },
   {
    "duration": 36,
    "start_time": "2021-12-15T18:14:02.541Z"
   },
   {
    "duration": 40,
    "start_time": "2021-12-15T18:14:02.579Z"
   },
   {
    "duration": 48,
    "start_time": "2021-12-15T18:14:02.621Z"
   },
   {
    "duration": 26,
    "start_time": "2021-12-15T18:14:02.671Z"
   },
   {
    "duration": 37,
    "start_time": "2021-12-15T18:14:02.699Z"
   },
   {
    "duration": 35,
    "start_time": "2021-12-15T18:14:02.738Z"
   },
   {
    "duration": 32,
    "start_time": "2021-12-15T18:14:02.779Z"
   },
   {
    "duration": 23,
    "start_time": "2021-12-15T18:14:02.813Z"
   },
   {
    "duration": 26,
    "start_time": "2021-12-15T18:14:02.839Z"
   },
   {
    "duration": 62,
    "start_time": "2021-12-15T18:14:02.868Z"
   },
   {
    "duration": 28,
    "start_time": "2021-12-15T18:14:02.932Z"
   },
   {
    "duration": 5,
    "start_time": "2021-12-15T18:14:02.963Z"
   },
   {
    "duration": 49,
    "start_time": "2021-12-15T18:14:02.970Z"
   },
   {
    "duration": 20,
    "start_time": "2021-12-15T18:14:03.021Z"
   },
   {
    "duration": 41,
    "start_time": "2021-12-15T18:14:03.043Z"
   },
   {
    "duration": 18,
    "start_time": "2021-12-15T18:14:03.087Z"
   },
   {
    "duration": 18,
    "start_time": "2021-12-15T18:14:03.107Z"
   },
   {
    "duration": 29,
    "start_time": "2021-12-15T18:14:03.127Z"
   },
   {
    "duration": 23,
    "start_time": "2021-12-15T18:14:03.159Z"
   },
   {
    "duration": 26,
    "start_time": "2021-12-15T18:14:03.185Z"
   },
   {
    "duration": 17,
    "start_time": "2021-12-15T18:14:03.213Z"
   },
   {
    "duration": 72,
    "start_time": "2021-12-15T18:14:52.328Z"
   },
   {
    "duration": 39,
    "start_time": "2021-12-15T18:15:06.595Z"
   },
   {
    "duration": 38,
    "start_time": "2021-12-15T18:15:29.258Z"
   },
   {
    "duration": 23,
    "start_time": "2021-12-15T18:15:43.099Z"
   },
   {
    "duration": 631,
    "start_time": "2021-12-15T18:15:55.059Z"
   },
   {
    "duration": 601,
    "start_time": "2021-12-15T18:15:55.692Z"
   },
   {
    "duration": 9,
    "start_time": "2021-12-15T18:15:56.295Z"
   },
   {
    "duration": 25,
    "start_time": "2021-12-15T18:15:56.306Z"
   },
   {
    "duration": 3,
    "start_time": "2021-12-15T18:15:56.333Z"
   },
   {
    "duration": 44,
    "start_time": "2021-12-15T18:15:56.338Z"
   },
   {
    "duration": 4,
    "start_time": "2021-12-15T18:15:56.384Z"
   },
   {
    "duration": 25,
    "start_time": "2021-12-15T18:15:56.390Z"
   },
   {
    "duration": 85,
    "start_time": "2021-12-15T18:15:56.419Z"
   },
   {
    "duration": 4,
    "start_time": "2021-12-15T18:15:56.506Z"
   },
   {
    "duration": 27,
    "start_time": "2021-12-15T18:15:56.512Z"
   },
   {
    "duration": 69,
    "start_time": "2021-12-15T18:15:56.541Z"
   },
   {
    "duration": 76,
    "start_time": "2021-12-15T18:15:56.612Z"
   },
   {
    "duration": 57,
    "start_time": "2021-12-15T18:15:56.690Z"
   },
   {
    "duration": 56,
    "start_time": "2021-12-15T18:15:56.749Z"
   },
   {
    "duration": 3,
    "start_time": "2021-12-15T18:15:56.808Z"
   },
   {
    "duration": 13,
    "start_time": "2021-12-15T18:15:56.813Z"
   },
   {
    "duration": 68,
    "start_time": "2021-12-15T18:15:56.828Z"
   },
   {
    "duration": 14,
    "start_time": "2021-12-15T18:15:56.898Z"
   },
   {
    "duration": 14,
    "start_time": "2021-12-15T18:15:56.914Z"
   },
   {
    "duration": 41,
    "start_time": "2021-12-15T18:15:56.930Z"
   },
   {
    "duration": 19,
    "start_time": "2021-12-15T18:15:56.973Z"
   },
   {
    "duration": 25,
    "start_time": "2021-12-15T18:15:56.994Z"
   },
   {
    "duration": 50,
    "start_time": "2021-12-15T18:15:57.021Z"
   },
   {
    "duration": 23,
    "start_time": "2021-12-15T18:15:57.073Z"
   },
   {
    "duration": 22,
    "start_time": "2021-12-15T18:15:57.099Z"
   },
   {
    "duration": 47,
    "start_time": "2021-12-15T18:15:57.126Z"
   },
   {
    "duration": 21,
    "start_time": "2021-12-15T18:15:57.176Z"
   },
   {
    "duration": 14,
    "start_time": "2021-12-15T18:15:57.200Z"
   },
   {
    "duration": 49,
    "start_time": "2021-12-15T18:15:57.216Z"
   },
   {
    "duration": 19,
    "start_time": "2021-12-15T18:15:57.267Z"
   },
   {
    "duration": 5,
    "start_time": "2021-12-15T18:15:57.288Z"
   },
   {
    "duration": 24,
    "start_time": "2021-12-15T18:15:57.295Z"
   },
   {
    "duration": 13,
    "start_time": "2021-12-15T18:15:57.321Z"
   },
   {
    "duration": 21,
    "start_time": "2021-12-15T18:15:57.364Z"
   },
   {
    "duration": 15,
    "start_time": "2021-12-15T18:15:57.387Z"
   },
   {
    "duration": 11,
    "start_time": "2021-12-15T18:15:57.403Z"
   },
   {
    "duration": 5,
    "start_time": "2021-12-15T18:15:57.416Z"
   },
   {
    "duration": 41,
    "start_time": "2021-12-15T18:15:57.422Z"
   },
   {
    "duration": 10,
    "start_time": "2021-12-15T18:15:57.465Z"
   },
   {
    "duration": 8,
    "start_time": "2021-12-15T18:15:57.477Z"
   },
   {
    "duration": 158,
    "start_time": "2021-12-15T18:19:17.205Z"
   },
   {
    "duration": 87,
    "start_time": "2021-12-15T18:19:31.913Z"
   },
   {
    "duration": 44,
    "start_time": "2021-12-15T18:20:43.322Z"
   },
   {
    "duration": 24,
    "start_time": "2021-12-15T18:20:50.346Z"
   },
   {
    "duration": 17,
    "start_time": "2021-12-15T18:43:27.695Z"
   },
   {
    "duration": 38,
    "start_time": "2021-12-15T18:43:30.754Z"
   },
   {
    "duration": 856,
    "start_time": "2021-12-15T18:43:44.095Z"
   },
   {
    "duration": 655,
    "start_time": "2021-12-15T18:43:44.954Z"
   },
   {
    "duration": 10,
    "start_time": "2021-12-15T18:43:45.611Z"
   },
   {
    "duration": 27,
    "start_time": "2021-12-15T18:43:45.622Z"
   },
   {
    "duration": 13,
    "start_time": "2021-12-15T18:43:45.651Z"
   },
   {
    "duration": 21,
    "start_time": "2021-12-15T18:43:45.666Z"
   },
   {
    "duration": 13,
    "start_time": "2021-12-15T18:43:45.689Z"
   },
   {
    "duration": 26,
    "start_time": "2021-12-15T18:43:45.704Z"
   },
   {
    "duration": 31,
    "start_time": "2021-12-15T18:43:45.732Z"
   },
   {
    "duration": 4,
    "start_time": "2021-12-15T18:43:45.765Z"
   },
   {
    "duration": 41,
    "start_time": "2021-12-15T18:43:45.770Z"
   },
   {
    "duration": 69,
    "start_time": "2021-12-15T18:43:45.813Z"
   },
   {
    "duration": 79,
    "start_time": "2021-12-15T18:43:45.884Z"
   },
   {
    "duration": 60,
    "start_time": "2021-12-15T18:43:45.965Z"
   },
   {
    "duration": 58,
    "start_time": "2021-12-15T18:43:46.027Z"
   },
   {
    "duration": 3,
    "start_time": "2021-12-15T18:43:46.086Z"
   },
   {
    "duration": 15,
    "start_time": "2021-12-15T18:43:46.091Z"
   },
   {
    "duration": 41,
    "start_time": "2021-12-15T18:43:46.107Z"
   },
   {
    "duration": 11,
    "start_time": "2021-12-15T18:43:46.164Z"
   },
   {
    "duration": 11,
    "start_time": "2021-12-15T18:43:46.177Z"
   },
   {
    "duration": 15,
    "start_time": "2021-12-15T18:43:46.190Z"
   },
   {
    "duration": 18,
    "start_time": "2021-12-15T18:43:46.208Z"
   },
   {
    "duration": 51,
    "start_time": "2021-12-15T18:43:46.229Z"
   },
   {
    "duration": 15,
    "start_time": "2021-12-15T18:43:46.282Z"
   },
   {
    "duration": 15,
    "start_time": "2021-12-15T18:43:46.299Z"
   },
   {
    "duration": 15,
    "start_time": "2021-12-15T18:43:46.316Z"
   },
   {
    "duration": 48,
    "start_time": "2021-12-15T18:43:46.333Z"
   },
   {
    "duration": 16,
    "start_time": "2021-12-15T18:43:46.383Z"
   },
   {
    "duration": 10,
    "start_time": "2021-12-15T18:43:46.401Z"
   },
   {
    "duration": 65,
    "start_time": "2021-12-15T18:43:46.413Z"
   },
   {
    "duration": 20,
    "start_time": "2021-12-15T18:43:46.480Z"
   },
   {
    "duration": 4,
    "start_time": "2021-12-15T18:43:46.502Z"
   },
   {
    "duration": 23,
    "start_time": "2021-12-15T18:43:46.508Z"
   },
   {
    "duration": 34,
    "start_time": "2021-12-15T18:43:46.533Z"
   },
   {
    "duration": 21,
    "start_time": "2021-12-15T18:43:46.569Z"
   },
   {
    "duration": 14,
    "start_time": "2021-12-15T18:43:46.591Z"
   },
   {
    "duration": 8,
    "start_time": "2021-12-15T18:43:46.607Z"
   },
   {
    "duration": 6,
    "start_time": "2021-12-15T18:43:46.617Z"
   },
   {
    "duration": 38,
    "start_time": "2021-12-15T18:43:46.625Z"
   },
   {
    "duration": 13,
    "start_time": "2021-12-15T18:43:46.666Z"
   },
   {
    "duration": 7,
    "start_time": "2021-12-15T18:43:46.681Z"
   },
   {
    "duration": 21,
    "start_time": "2021-12-15T18:44:31.803Z"
   },
   {
    "duration": 19,
    "start_time": "2021-12-15T18:44:36.678Z"
   },
   {
    "duration": 23,
    "start_time": "2021-12-15T18:44:39.378Z"
   },
   {
    "duration": 26,
    "start_time": "2021-12-15T18:48:28.101Z"
   },
   {
    "duration": 28,
    "start_time": "2021-12-15T18:48:45.832Z"
   },
   {
    "duration": 39,
    "start_time": "2021-12-15T18:50:00.517Z"
   },
   {
    "duration": 377,
    "start_time": "2021-12-15T18:57:08.924Z"
   },
   {
    "duration": 38,
    "start_time": "2021-12-15T18:57:26.696Z"
   },
   {
    "duration": 49,
    "start_time": "2021-12-15T18:57:42.672Z"
   },
   {
    "duration": 26,
    "start_time": "2021-12-15T19:00:15.463Z"
   },
   {
    "duration": 328,
    "start_time": "2021-12-15T19:00:31.658Z"
   },
   {
    "duration": 36,
    "start_time": "2021-12-15T19:00:44.224Z"
   },
   {
    "duration": 3299,
    "start_time": "2021-12-15T19:02:22.521Z"
   },
   {
    "duration": 3337,
    "start_time": "2021-12-15T19:03:14.282Z"
   },
   {
    "duration": 87,
    "start_time": "2021-12-15T19:05:40.042Z"
   },
   {
    "duration": 53,
    "start_time": "2021-12-15T19:05:50.376Z"
   },
   {
    "duration": 30,
    "start_time": "2021-12-15T19:12:51.689Z"
   },
   {
    "duration": 21,
    "start_time": "2021-12-15T19:12:57.429Z"
   },
   {
    "duration": 38,
    "start_time": "2021-12-15T19:13:11.675Z"
   },
   {
    "duration": 21,
    "start_time": "2021-12-15T19:14:28.805Z"
   },
   {
    "duration": 23,
    "start_time": "2021-12-15T19:15:18.105Z"
   },
   {
    "duration": 661,
    "start_time": "2021-12-15T19:16:09.805Z"
   },
   {
    "duration": 606,
    "start_time": "2021-12-15T19:16:10.468Z"
   },
   {
    "duration": 14,
    "start_time": "2021-12-15T19:16:11.078Z"
   },
   {
    "duration": 38,
    "start_time": "2021-12-15T19:16:11.094Z"
   },
   {
    "duration": 22,
    "start_time": "2021-12-15T19:16:11.135Z"
   },
   {
    "duration": 48,
    "start_time": "2021-12-15T19:16:11.159Z"
   },
   {
    "duration": 5,
    "start_time": "2021-12-15T19:16:11.210Z"
   },
   {
    "duration": 48,
    "start_time": "2021-12-15T19:16:11.217Z"
   },
   {
    "duration": 43,
    "start_time": "2021-12-15T19:16:11.270Z"
   },
   {
    "duration": 15,
    "start_time": "2021-12-15T19:16:11.317Z"
   },
   {
    "duration": 36,
    "start_time": "2021-12-15T19:16:11.334Z"
   },
   {
    "duration": 110,
    "start_time": "2021-12-15T19:16:11.372Z"
   },
   {
    "duration": 129,
    "start_time": "2021-12-15T19:16:11.484Z"
   },
   {
    "duration": 93,
    "start_time": "2021-12-15T19:16:11.616Z"
   },
   {
    "duration": 66,
    "start_time": "2021-12-15T19:16:11.711Z"
   },
   {
    "duration": 34,
    "start_time": "2021-12-15T19:16:11.779Z"
   },
   {
    "duration": 37,
    "start_time": "2021-12-15T19:16:11.815Z"
   },
   {
    "duration": 79,
    "start_time": "2021-12-15T19:16:11.854Z"
   },
   {
    "duration": 11,
    "start_time": "2021-12-15T19:16:11.935Z"
   },
   {
    "duration": 39,
    "start_time": "2021-12-15T19:16:11.948Z"
   },
   {
    "duration": 22,
    "start_time": "2021-12-15T19:16:11.989Z"
   },
   {
    "duration": 39,
    "start_time": "2021-12-15T19:16:12.013Z"
   },
   {
    "duration": 41,
    "start_time": "2021-12-15T19:16:12.054Z"
   },
   {
    "duration": 33,
    "start_time": "2021-12-15T19:16:12.097Z"
   },
   {
    "duration": 49,
    "start_time": "2021-12-15T19:16:12.132Z"
   },
   {
    "duration": 43,
    "start_time": "2021-12-15T19:16:12.182Z"
   },
   {
    "duration": 46,
    "start_time": "2021-12-15T19:16:12.228Z"
   },
   {
    "duration": 38,
    "start_time": "2021-12-15T19:16:12.277Z"
   },
   {
    "duration": 22,
    "start_time": "2021-12-15T19:16:12.318Z"
   },
   {
    "duration": 52,
    "start_time": "2021-12-15T19:16:12.342Z"
   },
   {
    "duration": 22,
    "start_time": "2021-12-15T19:16:12.396Z"
   },
   {
    "duration": 5,
    "start_time": "2021-12-15T19:16:12.421Z"
   },
   {
    "duration": 50,
    "start_time": "2021-12-15T19:16:12.428Z"
   },
   {
    "duration": 38,
    "start_time": "2021-12-15T19:16:12.480Z"
   },
   {
    "duration": 32,
    "start_time": "2021-12-15T19:16:12.520Z"
   },
   {
    "duration": 43,
    "start_time": "2021-12-15T19:16:12.554Z"
   },
   {
    "duration": 13,
    "start_time": "2021-12-15T19:16:12.599Z"
   },
   {
    "duration": 30,
    "start_time": "2021-12-15T19:16:12.614Z"
   },
   {
    "duration": 39,
    "start_time": "2021-12-15T19:16:12.645Z"
   },
   {
    "duration": 21,
    "start_time": "2021-12-15T19:16:12.686Z"
   },
   {
    "duration": 30,
    "start_time": "2021-12-15T19:16:12.709Z"
   },
   {
    "duration": 594,
    "start_time": "2021-12-15T19:16:51.994Z"
   },
   {
    "duration": 464,
    "start_time": "2021-12-15T19:16:52.590Z"
   },
   {
    "duration": 19,
    "start_time": "2021-12-15T19:16:53.056Z"
   },
   {
    "duration": 25,
    "start_time": "2021-12-15T19:16:53.077Z"
   },
   {
    "duration": 4,
    "start_time": "2021-12-15T19:16:53.104Z"
   },
   {
    "duration": 23,
    "start_time": "2021-12-15T19:16:53.110Z"
   },
   {
    "duration": 6,
    "start_time": "2021-12-15T19:16:53.135Z"
   },
   {
    "duration": 28,
    "start_time": "2021-12-15T19:16:53.168Z"
   },
   {
    "duration": 34,
    "start_time": "2021-12-15T19:16:53.200Z"
   },
   {
    "duration": 51,
    "start_time": "2021-12-15T19:16:53.237Z"
   },
   {
    "duration": 79,
    "start_time": "2021-12-15T19:16:53.290Z"
   },
   {
    "duration": 79,
    "start_time": "2021-12-15T19:16:53.371Z"
   },
   {
    "duration": 85,
    "start_time": "2021-12-15T19:16:53.452Z"
   },
   {
    "duration": 52,
    "start_time": "2021-12-15T19:16:53.539Z"
   },
   {
    "duration": 3,
    "start_time": "2021-12-15T19:16:53.593Z"
   },
   {
    "duration": 13,
    "start_time": "2021-12-15T19:16:53.597Z"
   },
   {
    "duration": 68,
    "start_time": "2021-12-15T19:16:53.612Z"
   },
   {
    "duration": 12,
    "start_time": "2021-12-15T19:16:53.682Z"
   },
   {
    "duration": 11,
    "start_time": "2021-12-15T19:16:53.696Z"
   },
   {
    "duration": 14,
    "start_time": "2021-12-15T19:16:53.709Z"
   },
   {
    "duration": 44,
    "start_time": "2021-12-15T19:16:53.725Z"
   },
   {
    "duration": 24,
    "start_time": "2021-12-15T19:16:53.770Z"
   },
   {
    "duration": 19,
    "start_time": "2021-12-15T19:16:53.798Z"
   },
   {
    "duration": 17,
    "start_time": "2021-12-15T19:16:53.819Z"
   },
   {
    "duration": 19,
    "start_time": "2021-12-15T19:16:53.873Z"
   },
   {
    "duration": 19,
    "start_time": "2021-12-15T19:16:53.894Z"
   },
   {
    "duration": 20,
    "start_time": "2021-12-15T19:16:53.914Z"
   },
   {
    "duration": 9,
    "start_time": "2021-12-15T19:16:53.935Z"
   },
   {
    "duration": 34,
    "start_time": "2021-12-15T19:16:53.964Z"
   },
   {
    "duration": 20,
    "start_time": "2021-12-15T19:16:54.000Z"
   },
   {
    "duration": 5,
    "start_time": "2021-12-15T19:16:54.022Z"
   },
   {
    "duration": 55,
    "start_time": "2021-12-15T19:16:54.029Z"
   },
   {
    "duration": 16,
    "start_time": "2021-12-15T19:16:54.086Z"
   },
   {
    "duration": 30,
    "start_time": "2021-12-15T19:16:54.104Z"
   },
   {
    "duration": 41,
    "start_time": "2021-12-15T19:16:54.137Z"
   },
   {
    "duration": 13,
    "start_time": "2021-12-15T19:16:54.180Z"
   },
   {
    "duration": 5,
    "start_time": "2021-12-15T19:16:54.196Z"
   },
   {
    "duration": 13,
    "start_time": "2021-12-15T19:16:54.202Z"
   },
   {
    "duration": 10,
    "start_time": "2021-12-15T19:16:54.217Z"
   },
   {
    "duration": 40,
    "start_time": "2021-12-15T19:16:54.229Z"
   },
   {
    "duration": 332,
    "start_time": "2021-12-15T19:18:19.268Z"
   },
   {
    "duration": 4128,
    "start_time": "2021-12-15T19:18:30.956Z"
   },
   {
    "duration": 3475,
    "start_time": "2021-12-15T19:19:41.885Z"
   },
   {
    "duration": 3542,
    "start_time": "2021-12-15T19:19:56.296Z"
   },
   {
    "duration": 605,
    "start_time": "2021-12-15T19:20:07.189Z"
   },
   {
    "duration": 437,
    "start_time": "2021-12-15T19:20:07.796Z"
   },
   {
    "duration": 9,
    "start_time": "2021-12-15T19:20:08.236Z"
   },
   {
    "duration": 41,
    "start_time": "2021-12-15T19:20:08.247Z"
   },
   {
    "duration": 4,
    "start_time": "2021-12-15T19:20:08.290Z"
   },
   {
    "duration": 25,
    "start_time": "2021-12-15T19:20:08.296Z"
   },
   {
    "duration": 7,
    "start_time": "2021-12-15T19:20:08.323Z"
   },
   {
    "duration": 41,
    "start_time": "2021-12-15T19:20:08.332Z"
   },
   {
    "duration": 3446,
    "start_time": "2021-12-15T19:20:08.375Z"
   },
   {
    "duration": 152,
    "start_time": "2021-12-15T19:20:11.672Z"
   },
   {
    "duration": 151,
    "start_time": "2021-12-15T19:20:11.673Z"
   },
   {
    "duration": 150,
    "start_time": "2021-12-15T19:20:11.675Z"
   },
   {
    "duration": 150,
    "start_time": "2021-12-15T19:20:11.676Z"
   },
   {
    "duration": 149,
    "start_time": "2021-12-15T19:20:11.678Z"
   },
   {
    "duration": 148,
    "start_time": "2021-12-15T19:20:11.679Z"
   },
   {
    "duration": 147,
    "start_time": "2021-12-15T19:20:11.681Z"
   },
   {
    "duration": 147,
    "start_time": "2021-12-15T19:20:11.682Z"
   },
   {
    "duration": 147,
    "start_time": "2021-12-15T19:20:11.683Z"
   },
   {
    "duration": 146,
    "start_time": "2021-12-15T19:20:11.685Z"
   },
   {
    "duration": 144,
    "start_time": "2021-12-15T19:20:11.687Z"
   },
   {
    "duration": 144,
    "start_time": "2021-12-15T19:20:11.688Z"
   },
   {
    "duration": 143,
    "start_time": "2021-12-15T19:20:11.690Z"
   },
   {
    "duration": 143,
    "start_time": "2021-12-15T19:20:11.691Z"
   },
   {
    "duration": 143,
    "start_time": "2021-12-15T19:20:11.692Z"
   },
   {
    "duration": 142,
    "start_time": "2021-12-15T19:20:11.694Z"
   },
   {
    "duration": 142,
    "start_time": "2021-12-15T19:20:11.695Z"
   },
   {
    "duration": 142,
    "start_time": "2021-12-15T19:20:11.696Z"
   },
   {
    "duration": 141,
    "start_time": "2021-12-15T19:20:11.698Z"
   },
   {
    "duration": 141,
    "start_time": "2021-12-15T19:20:11.699Z"
   },
   {
    "duration": 140,
    "start_time": "2021-12-15T19:20:11.701Z"
   },
   {
    "duration": 39,
    "start_time": "2021-12-15T19:20:11.803Z"
   },
   {
    "duration": 19,
    "start_time": "2021-12-15T19:20:11.824Z"
   },
   {
    "duration": 15,
    "start_time": "2021-12-15T19:20:11.829Z"
   },
   {
    "duration": 14,
    "start_time": "2021-12-15T19:20:11.831Z"
   },
   {
    "duration": 13,
    "start_time": "2021-12-15T19:20:11.832Z"
   },
   {
    "duration": 12,
    "start_time": "2021-12-15T19:20:11.834Z"
   },
   {
    "duration": 12,
    "start_time": "2021-12-15T19:20:11.835Z"
   },
   {
    "duration": 11,
    "start_time": "2021-12-15T19:20:11.837Z"
   },
   {
    "duration": 9,
    "start_time": "2021-12-15T19:20:11.839Z"
   },
   {
    "duration": 9,
    "start_time": "2021-12-15T19:20:11.840Z"
   },
   {
    "duration": 30,
    "start_time": "2021-12-15T19:20:38.548Z"
   },
   {
    "duration": 293,
    "start_time": "2021-12-15T19:22:10.052Z"
   },
   {
    "duration": 96,
    "start_time": "2021-12-15T19:22:55.598Z"
   },
   {
    "duration": 63,
    "start_time": "2021-12-15T19:23:20.973Z"
   },
   {
    "duration": 664,
    "start_time": "2021-12-15T19:24:39.773Z"
   },
   {
    "duration": 491,
    "start_time": "2021-12-15T19:24:40.439Z"
   },
   {
    "duration": 10,
    "start_time": "2021-12-15T19:24:40.932Z"
   },
   {
    "duration": 47,
    "start_time": "2021-12-15T19:24:40.944Z"
   },
   {
    "duration": 4,
    "start_time": "2021-12-15T19:24:40.993Z"
   },
   {
    "duration": 31,
    "start_time": "2021-12-15T19:24:40.999Z"
   },
   {
    "duration": 33,
    "start_time": "2021-12-15T19:24:41.032Z"
   },
   {
    "duration": 42,
    "start_time": "2021-12-15T19:24:41.069Z"
   },
   {
    "duration": 642,
    "start_time": "2021-12-15T19:25:50.293Z"
   },
   {
    "duration": 470,
    "start_time": "2021-12-15T19:25:50.938Z"
   },
   {
    "duration": 9,
    "start_time": "2021-12-15T19:25:51.410Z"
   },
   {
    "duration": 28,
    "start_time": "2021-12-15T19:25:51.421Z"
   },
   {
    "duration": 6,
    "start_time": "2021-12-15T19:25:51.463Z"
   },
   {
    "duration": 24,
    "start_time": "2021-12-15T19:25:51.471Z"
   },
   {
    "duration": 5,
    "start_time": "2021-12-15T19:25:51.496Z"
   },
   {
    "duration": 25,
    "start_time": "2021-12-15T19:25:51.503Z"
   },
   {
    "duration": 74,
    "start_time": "2021-12-15T19:25:51.531Z"
   },
   {
    "duration": 41,
    "start_time": "2021-12-15T19:25:51.608Z"
   },
   {
    "duration": 132,
    "start_time": "2021-12-15T19:25:51.651Z"
   },
   {
    "duration": 95,
    "start_time": "2021-12-15T19:25:51.785Z"
   },
   {
    "duration": 58,
    "start_time": "2021-12-15T19:25:51.883Z"
   },
   {
    "duration": 58,
    "start_time": "2021-12-15T19:25:51.944Z"
   },
   {
    "duration": 3,
    "start_time": "2021-12-15T19:25:52.004Z"
   },
   {
    "duration": 13,
    "start_time": "2021-12-15T19:25:52.009Z"
   },
   {
    "duration": 66,
    "start_time": "2021-12-15T19:25:52.024Z"
   },
   {
    "duration": 11,
    "start_time": "2021-12-15T19:25:52.092Z"
   },
   {
    "duration": 12,
    "start_time": "2021-12-15T19:25:52.104Z"
   },
   {
    "duration": 15,
    "start_time": "2021-12-15T19:25:52.117Z"
   },
   {
    "duration": 52,
    "start_time": "2021-12-15T19:25:52.134Z"
   },
   {
    "duration": 18,
    "start_time": "2021-12-15T19:25:52.189Z"
   },
   {
    "duration": 16,
    "start_time": "2021-12-15T19:25:52.212Z"
   },
   {
    "duration": 44,
    "start_time": "2021-12-15T19:25:52.230Z"
   },
   {
    "duration": 20,
    "start_time": "2021-12-15T19:25:52.277Z"
   },
   {
    "duration": 17,
    "start_time": "2021-12-15T19:25:52.299Z"
   },
   {
    "duration": 53,
    "start_time": "2021-12-15T19:25:52.318Z"
   },
   {
    "duration": 13,
    "start_time": "2021-12-15T19:25:52.374Z"
   },
   {
    "duration": 25,
    "start_time": "2021-12-15T19:25:52.389Z"
   },
   {
    "duration": 19,
    "start_time": "2021-12-15T19:25:52.416Z"
   },
   {
    "duration": 4,
    "start_time": "2021-12-15T19:25:52.436Z"
   },
   {
    "duration": 51,
    "start_time": "2021-12-15T19:25:52.442Z"
   },
   {
    "duration": 13,
    "start_time": "2021-12-15T19:25:52.495Z"
   },
   {
    "duration": 24,
    "start_time": "2021-12-15T19:25:52.509Z"
   },
   {
    "duration": 13,
    "start_time": "2021-12-15T19:25:52.535Z"
   },
   {
    "duration": 18,
    "start_time": "2021-12-15T19:25:52.568Z"
   },
   {
    "duration": 6,
    "start_time": "2021-12-15T19:25:52.588Z"
   },
   {
    "duration": 13,
    "start_time": "2021-12-15T19:25:52.596Z"
   },
   {
    "duration": 12,
    "start_time": "2021-12-15T19:25:52.611Z"
   },
   {
    "duration": 9,
    "start_time": "2021-12-15T19:25:52.625Z"
   },
   {
    "duration": 595,
    "start_time": "2021-12-15T19:28:50.425Z"
   },
   {
    "duration": 442,
    "start_time": "2021-12-15T19:28:51.023Z"
   },
   {
    "duration": 15,
    "start_time": "2021-12-15T19:28:51.468Z"
   },
   {
    "duration": 50,
    "start_time": "2021-12-15T19:28:51.486Z"
   },
   {
    "duration": 5,
    "start_time": "2021-12-15T19:28:51.538Z"
   },
   {
    "duration": 22,
    "start_time": "2021-12-15T19:28:51.564Z"
   },
   {
    "duration": 13,
    "start_time": "2021-12-15T19:28:51.588Z"
   },
   {
    "duration": 24,
    "start_time": "2021-12-15T19:28:51.604Z"
   },
   {
    "duration": 42,
    "start_time": "2021-12-15T19:28:51.630Z"
   },
   {
    "duration": 22,
    "start_time": "2021-12-15T19:28:51.674Z"
   },
   {
    "duration": 121,
    "start_time": "2021-12-15T19:28:51.699Z"
   },
   {
    "duration": 94,
    "start_time": "2021-12-15T19:28:51.822Z"
   },
   {
    "duration": 71,
    "start_time": "2021-12-15T19:28:51.918Z"
   },
   {
    "duration": 42,
    "start_time": "2021-12-15T19:28:51.990Z"
   },
   {
    "duration": 2,
    "start_time": "2021-12-15T19:28:52.034Z"
   },
   {
    "duration": 27,
    "start_time": "2021-12-15T19:28:52.038Z"
   },
   {
    "duration": 47,
    "start_time": "2021-12-15T19:28:52.067Z"
   },
   {
    "duration": 11,
    "start_time": "2021-12-15T19:28:52.115Z"
   },
   {
    "duration": 10,
    "start_time": "2021-12-15T19:28:52.127Z"
   },
   {
    "duration": 36,
    "start_time": "2021-12-15T19:28:52.139Z"
   },
   {
    "duration": 18,
    "start_time": "2021-12-15T19:28:52.177Z"
   },
   {
    "duration": 17,
    "start_time": "2021-12-15T19:28:52.197Z"
   },
   {
    "duration": 47,
    "start_time": "2021-12-15T19:28:52.217Z"
   },
   {
    "duration": 16,
    "start_time": "2021-12-15T19:28:52.266Z"
   },
   {
    "duration": 15,
    "start_time": "2021-12-15T19:28:52.284Z"
   },
   {
    "duration": 18,
    "start_time": "2021-12-15T19:28:52.300Z"
   },
   {
    "duration": 51,
    "start_time": "2021-12-15T19:28:52.319Z"
   },
   {
    "duration": 10,
    "start_time": "2021-12-15T19:28:52.371Z"
   },
   {
    "duration": 28,
    "start_time": "2021-12-15T19:28:52.382Z"
   },
   {
    "duration": 53,
    "start_time": "2021-12-15T19:28:52.412Z"
   },
   {
    "duration": 4,
    "start_time": "2021-12-15T19:28:52.467Z"
   },
   {
    "duration": 24,
    "start_time": "2021-12-15T19:28:52.473Z"
   },
   {
    "duration": 13,
    "start_time": "2021-12-15T19:28:52.498Z"
   },
   {
    "duration": 21,
    "start_time": "2021-12-15T19:28:52.513Z"
   },
   {
    "duration": 37,
    "start_time": "2021-12-15T19:28:52.536Z"
   },
   {
    "duration": 9,
    "start_time": "2021-12-15T19:28:52.575Z"
   },
   {
    "duration": 4,
    "start_time": "2021-12-15T19:28:52.586Z"
   },
   {
    "duration": 9,
    "start_time": "2021-12-15T19:28:52.591Z"
   },
   {
    "duration": 10,
    "start_time": "2021-12-15T19:28:52.602Z"
   },
   {
    "duration": 4,
    "start_time": "2021-12-15T19:28:52.614Z"
   },
   {
    "duration": 22,
    "start_time": "2021-12-15T19:30:38.332Z"
   },
   {
    "duration": 751,
    "start_time": "2021-12-15T19:31:08.902Z"
   },
   {
    "duration": 1394,
    "start_time": "2021-12-15T19:31:09.656Z"
   },
   {
    "duration": 24,
    "start_time": "2021-12-15T19:31:11.052Z"
   },
   {
    "duration": 44,
    "start_time": "2021-12-15T19:31:11.078Z"
   },
   {
    "duration": 5,
    "start_time": "2021-12-15T19:31:11.125Z"
   },
   {
    "duration": 54,
    "start_time": "2021-12-15T19:31:11.132Z"
   },
   {
    "duration": 9,
    "start_time": "2021-12-15T19:31:11.189Z"
   },
   {
    "duration": 40,
    "start_time": "2021-12-15T19:31:11.202Z"
   },
   {
    "duration": 49,
    "start_time": "2021-12-15T19:31:11.245Z"
   },
   {
    "duration": 39,
    "start_time": "2021-12-15T19:31:11.296Z"
   },
   {
    "duration": 118,
    "start_time": "2021-12-15T19:31:11.338Z"
   },
   {
    "duration": 135,
    "start_time": "2021-12-15T19:31:11.458Z"
   },
   {
    "duration": 108,
    "start_time": "2021-12-15T19:31:11.596Z"
   },
   {
    "duration": 65,
    "start_time": "2021-12-15T19:31:11.706Z"
   },
   {
    "duration": 4,
    "start_time": "2021-12-15T19:31:11.773Z"
   },
   {
    "duration": 25,
    "start_time": "2021-12-15T19:31:11.779Z"
   },
   {
    "duration": 68,
    "start_time": "2021-12-15T19:31:11.806Z"
   },
   {
    "duration": 12,
    "start_time": "2021-12-15T19:31:11.877Z"
   },
   {
    "duration": 15,
    "start_time": "2021-12-15T19:31:11.890Z"
   },
   {
    "duration": 21,
    "start_time": "2021-12-15T19:31:11.906Z"
   },
   {
    "duration": 37,
    "start_time": "2021-12-15T19:31:11.929Z"
   },
   {
    "duration": 18,
    "start_time": "2021-12-15T19:31:11.968Z"
   },
   {
    "duration": 16,
    "start_time": "2021-12-15T19:31:11.989Z"
   },
   {
    "duration": 18,
    "start_time": "2021-12-15T19:31:12.007Z"
   },
   {
    "duration": 44,
    "start_time": "2021-12-15T19:31:12.026Z"
   },
   {
    "duration": 18,
    "start_time": "2021-12-15T19:31:12.072Z"
   },
   {
    "duration": 15,
    "start_time": "2021-12-15T19:31:12.092Z"
   },
   {
    "duration": 12,
    "start_time": "2021-12-15T19:31:12.109Z"
   },
   {
    "duration": 50,
    "start_time": "2021-12-15T19:31:12.123Z"
   },
   {
    "duration": 20,
    "start_time": "2021-12-15T19:31:12.175Z"
   },
   {
    "duration": 4,
    "start_time": "2021-12-15T19:31:12.196Z"
   },
   {
    "duration": 33,
    "start_time": "2021-12-15T19:31:12.203Z"
   },
   {
    "duration": 39,
    "start_time": "2021-12-15T19:31:12.239Z"
   },
   {
    "duration": 23,
    "start_time": "2021-12-15T19:31:12.281Z"
   },
   {
    "duration": 17,
    "start_time": "2021-12-15T19:31:12.305Z"
   },
   {
    "duration": 41,
    "start_time": "2021-12-15T19:31:12.324Z"
   },
   {
    "duration": 6,
    "start_time": "2021-12-15T19:31:12.368Z"
   },
   {
    "duration": 8,
    "start_time": "2021-12-15T19:31:12.375Z"
   },
   {
    "duration": 11,
    "start_time": "2021-12-15T19:31:12.385Z"
   },
   {
    "duration": 6,
    "start_time": "2021-12-15T19:31:12.398Z"
   },
   {
    "duration": 317,
    "start_time": "2021-12-15T19:32:39.171Z"
   },
   {
    "duration": 296,
    "start_time": "2021-12-15T19:34:14.786Z"
   },
   {
    "duration": 645,
    "start_time": "2021-12-15T19:37:15.744Z"
   },
   {
    "duration": 452,
    "start_time": "2021-12-15T19:37:16.391Z"
   },
   {
    "duration": 10,
    "start_time": "2021-12-15T19:37:16.846Z"
   },
   {
    "duration": 36,
    "start_time": "2021-12-15T19:37:16.864Z"
   },
   {
    "duration": 7,
    "start_time": "2021-12-15T19:37:16.902Z"
   },
   {
    "duration": 28,
    "start_time": "2021-12-15T19:37:16.910Z"
   },
   {
    "duration": 5,
    "start_time": "2021-12-15T19:37:16.940Z"
   },
   {
    "duration": 37,
    "start_time": "2021-12-15T19:37:16.947Z"
   },
   {
    "duration": 49,
    "start_time": "2021-12-15T19:37:16.986Z"
   },
   {
    "duration": 35,
    "start_time": "2021-12-15T19:37:17.036Z"
   },
   {
    "duration": 58,
    "start_time": "2021-12-15T19:37:17.073Z"
   },
   {
    "duration": 88,
    "start_time": "2021-12-15T19:37:17.133Z"
   },
   {
    "duration": 74,
    "start_time": "2021-12-15T19:37:17.223Z"
   },
   {
    "duration": 41,
    "start_time": "2021-12-15T19:37:17.299Z"
   },
   {
    "duration": 3,
    "start_time": "2021-12-15T19:37:17.341Z"
   },
   {
    "duration": 27,
    "start_time": "2021-12-15T19:37:17.346Z"
   },
   {
    "duration": 41,
    "start_time": "2021-12-15T19:37:17.375Z"
   },
   {
    "duration": 11,
    "start_time": "2021-12-15T19:37:17.418Z"
   },
   {
    "duration": 37,
    "start_time": "2021-12-15T19:37:17.430Z"
   },
   {
    "duration": 16,
    "start_time": "2021-12-15T19:37:17.468Z"
   },
   {
    "duration": 20,
    "start_time": "2021-12-15T19:37:17.486Z"
   },
   {
    "duration": 18,
    "start_time": "2021-12-15T19:37:17.508Z"
   },
   {
    "duration": 49,
    "start_time": "2021-12-15T19:37:17.529Z"
   },
   {
    "duration": 15,
    "start_time": "2021-12-15T19:37:17.581Z"
   },
   {
    "duration": 16,
    "start_time": "2021-12-15T19:37:17.598Z"
   },
   {
    "duration": 48,
    "start_time": "2021-12-15T19:37:17.616Z"
   },
   {
    "duration": 17,
    "start_time": "2021-12-15T19:37:17.666Z"
   },
   {
    "duration": 12,
    "start_time": "2021-12-15T19:37:17.685Z"
   },
   {
    "duration": 26,
    "start_time": "2021-12-15T19:37:17.699Z"
   },
   {
    "duration": 52,
    "start_time": "2021-12-15T19:37:17.727Z"
   },
   {
    "duration": 5,
    "start_time": "2021-12-15T19:37:17.781Z"
   },
   {
    "duration": 27,
    "start_time": "2021-12-15T19:37:17.788Z"
   },
   {
    "duration": 14,
    "start_time": "2021-12-15T19:37:17.817Z"
   },
   {
    "duration": 47,
    "start_time": "2021-12-15T19:37:17.833Z"
   },
   {
    "duration": 16,
    "start_time": "2021-12-15T19:37:17.882Z"
   },
   {
    "duration": 9,
    "start_time": "2021-12-15T19:37:17.900Z"
   },
   {
    "duration": 4,
    "start_time": "2021-12-15T19:37:17.911Z"
   },
   {
    "duration": 46,
    "start_time": "2021-12-15T19:37:17.917Z"
   },
   {
    "duration": 8,
    "start_time": "2021-12-15T19:37:17.965Z"
   },
   {
    "duration": 6,
    "start_time": "2021-12-15T19:37:17.975Z"
   },
   {
    "duration": 336,
    "start_time": "2021-12-15T19:42:28.360Z"
   },
   {
    "duration": 7562,
    "start_time": "2021-12-15T19:42:56.549Z"
   },
   {
    "duration": 39,
    "start_time": "2021-12-15T19:46:25.799Z"
   },
   {
    "duration": 607,
    "start_time": "2021-12-15T19:47:32.191Z"
   },
   {
    "duration": 438,
    "start_time": "2021-12-15T19:47:32.800Z"
   },
   {
    "duration": 11,
    "start_time": "2021-12-15T19:47:33.241Z"
   },
   {
    "duration": 29,
    "start_time": "2021-12-15T19:47:33.254Z"
   },
   {
    "duration": 5,
    "start_time": "2021-12-15T19:47:33.285Z"
   },
   {
    "duration": 24,
    "start_time": "2021-12-15T19:47:33.291Z"
   },
   {
    "duration": 6,
    "start_time": "2021-12-15T19:47:33.317Z"
   },
   {
    "duration": 49,
    "start_time": "2021-12-15T19:47:33.326Z"
   },
   {
    "duration": 286,
    "start_time": "2021-12-15T19:48:44.687Z"
   },
   {
    "duration": 601,
    "start_time": "2021-12-15T19:48:57.784Z"
   },
   {
    "duration": 559,
    "start_time": "2021-12-15T19:48:58.386Z"
   },
   {
    "duration": 25,
    "start_time": "2021-12-15T19:48:58.948Z"
   },
   {
    "duration": 47,
    "start_time": "2021-12-15T19:48:58.976Z"
   },
   {
    "duration": 3,
    "start_time": "2021-12-15T19:48:59.026Z"
   },
   {
    "duration": 39,
    "start_time": "2021-12-15T19:48:59.031Z"
   },
   {
    "duration": 10,
    "start_time": "2021-12-15T19:48:59.072Z"
   },
   {
    "duration": 23,
    "start_time": "2021-12-15T19:48:59.086Z"
   },
   {
    "duration": 62,
    "start_time": "2021-12-15T19:48:59.111Z"
   },
   {
    "duration": 23,
    "start_time": "2021-12-15T19:48:59.174Z"
   },
   {
    "duration": 80,
    "start_time": "2021-12-15T19:48:59.199Z"
   },
   {
    "duration": 82,
    "start_time": "2021-12-15T19:48:59.281Z"
   },
   {
    "duration": 52,
    "start_time": "2021-12-15T19:48:59.365Z"
   },
   {
    "duration": 53,
    "start_time": "2021-12-15T19:48:59.419Z"
   },
   {
    "duration": 3,
    "start_time": "2021-12-15T19:48:59.474Z"
   },
   {
    "duration": 13,
    "start_time": "2021-12-15T19:48:59.480Z"
   },
   {
    "duration": 41,
    "start_time": "2021-12-15T19:48:59.495Z"
   },
   {
    "duration": 32,
    "start_time": "2021-12-15T19:48:59.537Z"
   },
   {
    "duration": 11,
    "start_time": "2021-12-15T19:48:59.571Z"
   },
   {
    "duration": 13,
    "start_time": "2021-12-15T19:48:59.584Z"
   },
   {
    "duration": 18,
    "start_time": "2021-12-15T19:48:59.599Z"
   },
   {
    "duration": 51,
    "start_time": "2021-12-15T19:48:59.620Z"
   },
   {
    "duration": 15,
    "start_time": "2021-12-15T19:48:59.675Z"
   },
   {
    "duration": 17,
    "start_time": "2021-12-15T19:48:59.693Z"
   },
   {
    "duration": 16,
    "start_time": "2021-12-15T19:48:59.712Z"
   },
   {
    "duration": 52,
    "start_time": "2021-12-15T19:48:59.730Z"
   },
   {
    "duration": 15,
    "start_time": "2021-12-15T19:48:59.784Z"
   },
   {
    "duration": 9,
    "start_time": "2021-12-15T19:48:59.801Z"
   },
   {
    "duration": 53,
    "start_time": "2021-12-15T19:48:59.812Z"
   },
   {
    "duration": 19,
    "start_time": "2021-12-15T19:48:59.867Z"
   },
   {
    "duration": 4,
    "start_time": "2021-12-15T19:48:59.888Z"
   },
   {
    "duration": 23,
    "start_time": "2021-12-15T19:48:59.894Z"
   },
   {
    "duration": 12,
    "start_time": "2021-12-15T19:48:59.919Z"
   },
   {
    "duration": 50,
    "start_time": "2021-12-15T19:48:59.933Z"
   },
   {
    "duration": 14,
    "start_time": "2021-12-15T19:48:59.985Z"
   },
   {
    "duration": 16,
    "start_time": "2021-12-15T19:49:00.002Z"
   },
   {
    "duration": 6,
    "start_time": "2021-12-15T19:49:00.020Z"
   },
   {
    "duration": 40,
    "start_time": "2021-12-15T19:49:00.028Z"
   },
   {
    "duration": 8,
    "start_time": "2021-12-15T19:49:00.070Z"
   },
   {
    "duration": 15,
    "start_time": "2021-12-15T19:49:00.080Z"
   },
   {
    "duration": 45,
    "start_time": "2021-12-15T20:05:35.399Z"
   },
   {
    "duration": 488,
    "start_time": "2021-12-15T20:06:59.521Z"
   },
   {
    "duration": 292,
    "start_time": "2021-12-15T20:07:24.205Z"
   },
   {
    "duration": 40,
    "start_time": "2021-12-15T20:22:00.271Z"
   },
   {
    "duration": 610,
    "start_time": "2021-12-15T20:22:09.078Z"
   },
   {
    "duration": 463,
    "start_time": "2021-12-15T20:22:09.690Z"
   },
   {
    "duration": 12,
    "start_time": "2021-12-15T20:22:10.155Z"
   },
   {
    "duration": 57,
    "start_time": "2021-12-15T20:22:10.168Z"
   },
   {
    "duration": 14,
    "start_time": "2021-12-15T20:22:10.227Z"
   },
   {
    "duration": 48,
    "start_time": "2021-12-15T20:22:10.243Z"
   },
   {
    "duration": 31,
    "start_time": "2021-12-15T20:22:10.294Z"
   },
   {
    "duration": 42,
    "start_time": "2021-12-15T20:22:10.328Z"
   },
   {
    "duration": 52,
    "start_time": "2021-12-15T20:22:10.372Z"
   },
   {
    "duration": 23,
    "start_time": "2021-12-15T20:22:10.425Z"
   },
   {
    "duration": 73,
    "start_time": "2021-12-15T20:22:10.449Z"
   },
   {
    "duration": 75,
    "start_time": "2021-12-15T20:22:10.524Z"
   },
   {
    "duration": 62,
    "start_time": "2021-12-15T20:22:10.601Z"
   },
   {
    "duration": 39,
    "start_time": "2021-12-15T20:22:10.665Z"
   },
   {
    "duration": 23,
    "start_time": "2021-12-15T20:22:10.706Z"
   },
   {
    "duration": 20,
    "start_time": "2021-12-15T20:22:10.731Z"
   },
   {
    "duration": 60,
    "start_time": "2021-12-15T20:22:10.753Z"
   },
   {
    "duration": 11,
    "start_time": "2021-12-15T20:22:10.815Z"
   },
   {
    "duration": 22,
    "start_time": "2021-12-15T20:22:10.828Z"
   },
   {
    "duration": 16,
    "start_time": "2021-12-15T20:22:10.852Z"
   },
   {
    "duration": 18,
    "start_time": "2021-12-15T20:22:10.871Z"
   },
   {
    "duration": 19,
    "start_time": "2021-12-15T20:22:10.891Z"
   },
   {
    "duration": 15,
    "start_time": "2021-12-15T20:22:10.914Z"
   },
   {
    "duration": 41,
    "start_time": "2021-12-15T20:22:10.931Z"
   },
   {
    "duration": 15,
    "start_time": "2021-12-15T20:22:10.974Z"
   },
   {
    "duration": 17,
    "start_time": "2021-12-15T20:22:10.991Z"
   },
   {
    "duration": 15,
    "start_time": "2021-12-15T20:22:11.010Z"
   },
   {
    "duration": 44,
    "start_time": "2021-12-15T20:22:11.027Z"
   },
   {
    "duration": 26,
    "start_time": "2021-12-15T20:22:11.073Z"
   },
   {
    "duration": 20,
    "start_time": "2021-12-15T20:22:11.101Z"
   },
   {
    "duration": 3,
    "start_time": "2021-12-15T20:22:11.123Z"
   },
   {
    "duration": 45,
    "start_time": "2021-12-15T20:22:11.128Z"
   },
   {
    "duration": 13,
    "start_time": "2021-12-15T20:22:11.175Z"
   },
   {
    "duration": 21,
    "start_time": "2021-12-15T20:22:11.190Z"
   },
   {
    "duration": 16,
    "start_time": "2021-12-15T20:22:11.213Z"
   },
   {
    "duration": 40,
    "start_time": "2021-12-15T20:22:11.231Z"
   },
   {
    "duration": 5,
    "start_time": "2021-12-15T20:22:11.273Z"
   },
   {
    "duration": 10,
    "start_time": "2021-12-15T20:22:11.280Z"
   },
   {
    "duration": 11,
    "start_time": "2021-12-15T20:22:11.292Z"
   },
   {
    "duration": 11,
    "start_time": "2021-12-15T20:22:11.304Z"
   },
   {
    "duration": 665,
    "start_time": "2021-12-15T20:24:25.095Z"
   },
   {
    "duration": 473,
    "start_time": "2021-12-15T20:24:25.762Z"
   },
   {
    "duration": 10,
    "start_time": "2021-12-15T20:24:26.237Z"
   },
   {
    "duration": 36,
    "start_time": "2021-12-15T20:24:26.248Z"
   },
   {
    "duration": 9,
    "start_time": "2021-12-15T20:24:26.286Z"
   },
   {
    "duration": 25,
    "start_time": "2021-12-15T20:24:26.296Z"
   },
   {
    "duration": 4,
    "start_time": "2021-12-15T20:24:26.323Z"
   },
   {
    "duration": 40,
    "start_time": "2021-12-15T20:24:26.329Z"
   },
   {
    "duration": 38,
    "start_time": "2021-12-15T20:24:26.371Z"
   },
   {
    "duration": 23,
    "start_time": "2021-12-15T20:24:26.410Z"
   },
   {
    "duration": 78,
    "start_time": "2021-12-15T20:24:26.434Z"
   },
   {
    "duration": 82,
    "start_time": "2021-12-15T20:24:26.514Z"
   },
   {
    "duration": 110,
    "start_time": "2021-12-15T20:24:26.599Z"
   },
   {
    "duration": 40,
    "start_time": "2021-12-15T20:24:26.711Z"
   },
   {
    "duration": 12,
    "start_time": "2021-12-15T20:24:26.752Z"
   },
   {
    "duration": 14,
    "start_time": "2021-12-15T20:24:26.766Z"
   },
   {
    "duration": 41,
    "start_time": "2021-12-15T20:24:26.781Z"
   },
   {
    "duration": 12,
    "start_time": "2021-12-15T20:24:26.824Z"
   },
   {
    "duration": 13,
    "start_time": "2021-12-15T20:24:26.862Z"
   },
   {
    "duration": 15,
    "start_time": "2021-12-15T20:24:26.877Z"
   },
   {
    "duration": 22,
    "start_time": "2021-12-15T20:24:26.894Z"
   },
   {
    "duration": 46,
    "start_time": "2021-12-15T20:24:26.918Z"
   },
   {
    "duration": 15,
    "start_time": "2021-12-15T20:24:26.968Z"
   },
   {
    "duration": 17,
    "start_time": "2021-12-15T20:24:26.985Z"
   },
   {
    "duration": 15,
    "start_time": "2021-12-15T20:24:27.004Z"
   },
   {
    "duration": 50,
    "start_time": "2021-12-15T20:24:27.020Z"
   },
   {
    "duration": 16,
    "start_time": "2021-12-15T20:24:27.072Z"
   },
   {
    "duration": 11,
    "start_time": "2021-12-15T20:24:27.089Z"
   },
   {
    "duration": 22,
    "start_time": "2021-12-15T20:24:27.101Z"
   },
   {
    "duration": 53,
    "start_time": "2021-12-15T20:24:27.125Z"
   },
   {
    "duration": 4,
    "start_time": "2021-12-15T20:24:27.179Z"
   },
   {
    "duration": 24,
    "start_time": "2021-12-15T20:24:27.185Z"
   },
   {
    "duration": 13,
    "start_time": "2021-12-15T20:24:27.210Z"
   },
   {
    "duration": 54,
    "start_time": "2021-12-15T20:24:27.224Z"
   },
   {
    "duration": 13,
    "start_time": "2021-12-15T20:24:27.280Z"
   },
   {
    "duration": 9,
    "start_time": "2021-12-15T20:24:27.295Z"
   },
   {
    "duration": 5,
    "start_time": "2021-12-15T20:24:27.305Z"
   },
   {
    "duration": 9,
    "start_time": "2021-12-15T20:24:27.311Z"
   },
   {
    "duration": 46,
    "start_time": "2021-12-15T20:24:27.321Z"
   },
   {
    "duration": 5,
    "start_time": "2021-12-15T20:24:27.369Z"
   },
   {
    "duration": 3,
    "start_time": "2021-12-15T20:55:29.159Z"
   },
   {
    "duration": 7,
    "start_time": "2021-12-15T20:56:59.073Z"
   },
   {
    "duration": 4,
    "start_time": "2021-12-15T20:57:02.597Z"
   },
   {
    "duration": 7,
    "start_time": "2021-12-15T20:57:26.759Z"
   },
   {
    "duration": 4,
    "start_time": "2021-12-15T20:57:29.180Z"
   },
   {
    "duration": 5,
    "start_time": "2021-12-15T20:57:46.996Z"
   },
   {
    "duration": 661,
    "start_time": "2021-12-15T20:57:56.340Z"
   },
   {
    "duration": 478,
    "start_time": "2021-12-15T20:57:57.003Z"
   },
   {
    "duration": 10,
    "start_time": "2021-12-15T20:57:57.483Z"
   },
   {
    "duration": 5,
    "start_time": "2021-12-15T20:59:04.996Z"
   },
   {
    "duration": 611,
    "start_time": "2021-12-15T20:59:12.924Z"
   },
   {
    "duration": 467,
    "start_time": "2021-12-15T20:59:13.538Z"
   },
   {
    "duration": 9,
    "start_time": "2021-12-15T20:59:14.007Z"
   },
   {
    "duration": 24,
    "start_time": "2021-12-15T20:59:14.018Z"
   },
   {
    "duration": 20,
    "start_time": "2021-12-15T20:59:14.044Z"
   },
   {
    "duration": 20,
    "start_time": "2021-12-15T20:59:14.066Z"
   },
   {
    "duration": 9,
    "start_time": "2021-12-15T20:59:14.088Z"
   },
   {
    "duration": 28,
    "start_time": "2021-12-15T20:59:14.100Z"
   },
   {
    "duration": 52,
    "start_time": "2021-12-15T20:59:14.132Z"
   },
   {
    "duration": 24,
    "start_time": "2021-12-15T20:59:14.186Z"
   },
   {
    "duration": 88,
    "start_time": "2021-12-15T20:59:14.213Z"
   },
   {
    "duration": 87,
    "start_time": "2021-12-15T20:59:14.303Z"
   },
   {
    "duration": 56,
    "start_time": "2021-12-15T20:59:14.392Z"
   },
   {
    "duration": 53,
    "start_time": "2021-12-15T20:59:14.450Z"
   },
   {
    "duration": 3,
    "start_time": "2021-12-15T20:59:14.505Z"
   },
   {
    "duration": 11,
    "start_time": "2021-12-15T20:59:14.510Z"
   },
   {
    "duration": 56,
    "start_time": "2021-12-15T20:59:14.523Z"
   },
   {
    "duration": 11,
    "start_time": "2021-12-15T20:59:14.580Z"
   },
   {
    "duration": 10,
    "start_time": "2021-12-15T20:59:14.593Z"
   },
   {
    "duration": 15,
    "start_time": "2021-12-15T20:59:14.604Z"
   },
   {
    "duration": 47,
    "start_time": "2021-12-15T20:59:14.621Z"
   },
   {
    "duration": 19,
    "start_time": "2021-12-15T20:59:14.670Z"
   },
   {
    "duration": 16,
    "start_time": "2021-12-15T20:59:14.693Z"
   },
   {
    "duration": 16,
    "start_time": "2021-12-15T20:59:14.712Z"
   },
   {
    "duration": 45,
    "start_time": "2021-12-15T20:59:14.730Z"
   },
   {
    "duration": 15,
    "start_time": "2021-12-15T20:59:14.777Z"
   },
   {
    "duration": 23,
    "start_time": "2021-12-15T20:59:14.794Z"
   },
   {
    "duration": 4,
    "start_time": "2021-12-15T20:59:14.818Z"
   },
   {
    "duration": 45,
    "start_time": "2021-12-15T20:59:14.824Z"
   },
   {
    "duration": 18,
    "start_time": "2021-12-15T20:59:14.871Z"
   },
   {
    "duration": 3,
    "start_time": "2021-12-15T20:59:14.891Z"
   },
   {
    "duration": 22,
    "start_time": "2021-12-15T20:59:14.896Z"
   },
   {
    "duration": 12,
    "start_time": "2021-12-15T20:59:14.919Z"
   },
   {
    "duration": 50,
    "start_time": "2021-12-15T20:59:14.933Z"
   },
   {
    "duration": 14,
    "start_time": "2021-12-15T20:59:14.985Z"
   },
   {
    "duration": 12,
    "start_time": "2021-12-15T20:59:15.001Z"
   },
   {
    "duration": 7,
    "start_time": "2021-12-15T20:59:15.015Z"
   },
   {
    "duration": 13,
    "start_time": "2021-12-15T20:59:15.024Z"
   },
   {
    "duration": 10,
    "start_time": "2021-12-15T20:59:15.064Z"
   },
   {
    "duration": 10,
    "start_time": "2021-12-15T20:59:15.076Z"
   },
   {
    "duration": 6,
    "start_time": "2021-12-15T21:01:13.202Z"
   },
   {
    "duration": 8,
    "start_time": "2021-12-15T21:02:02.120Z"
   },
   {
    "duration": 9,
    "start_time": "2021-12-15T21:03:29.102Z"
   },
   {
    "duration": 12,
    "start_time": "2021-12-15T21:04:02.856Z"
   },
   {
    "duration": 9,
    "start_time": "2021-12-15T21:04:35.946Z"
   },
   {
    "duration": 581,
    "start_time": "2021-12-15T21:08:27.107Z"
   },
   {
    "duration": 485,
    "start_time": "2021-12-15T21:08:27.690Z"
   },
   {
    "duration": 10,
    "start_time": "2021-12-15T21:08:28.177Z"
   },
   {
    "duration": 32,
    "start_time": "2021-12-15T21:08:28.189Z"
   },
   {
    "duration": 4,
    "start_time": "2021-12-15T21:08:28.223Z"
   },
   {
    "duration": 46,
    "start_time": "2021-12-15T21:08:28.230Z"
   },
   {
    "duration": 10,
    "start_time": "2021-12-15T21:08:28.279Z"
   },
   {
    "duration": 25,
    "start_time": "2021-12-15T21:08:28.291Z"
   },
   {
    "duration": 57,
    "start_time": "2021-12-15T21:08:28.319Z"
   },
   {
    "duration": 24,
    "start_time": "2021-12-15T21:08:28.378Z"
   },
   {
    "duration": 116,
    "start_time": "2021-12-15T21:08:28.404Z"
   },
   {
    "duration": 85,
    "start_time": "2021-12-15T21:08:28.523Z"
   },
   {
    "duration": 63,
    "start_time": "2021-12-15T21:08:28.610Z"
   },
   {
    "duration": 48,
    "start_time": "2021-12-15T21:08:28.675Z"
   },
   {
    "duration": 3,
    "start_time": "2021-12-15T21:08:28.725Z"
   },
   {
    "duration": 53,
    "start_time": "2021-12-15T21:08:28.730Z"
   },
   {
    "duration": 43,
    "start_time": "2021-12-15T21:08:28.785Z"
   },
   {
    "duration": 15,
    "start_time": "2021-12-15T21:08:28.830Z"
   },
   {
    "duration": 11,
    "start_time": "2021-12-15T21:08:28.846Z"
   },
   {
    "duration": 16,
    "start_time": "2021-12-15T21:08:28.858Z"
   },
   {
    "duration": 19,
    "start_time": "2021-12-15T21:08:28.876Z"
   },
   {
    "duration": 16,
    "start_time": "2021-12-15T21:08:28.897Z"
   },
   {
    "duration": 15,
    "start_time": "2021-12-15T21:08:28.914Z"
   },
   {
    "duration": 46,
    "start_time": "2021-12-15T21:08:28.930Z"
   },
   {
    "duration": 14,
    "start_time": "2021-12-15T21:08:28.977Z"
   },
   {
    "duration": 16,
    "start_time": "2021-12-15T21:08:28.992Z"
   },
   {
    "duration": 14,
    "start_time": "2021-12-15T21:08:29.011Z"
   },
   {
    "duration": 37,
    "start_time": "2021-12-15T21:08:29.027Z"
   },
   {
    "duration": 21,
    "start_time": "2021-12-15T21:08:29.066Z"
   },
   {
    "duration": 22,
    "start_time": "2021-12-15T21:08:29.088Z"
   },
   {
    "duration": 5,
    "start_time": "2021-12-15T21:08:29.112Z"
   },
   {
    "duration": 47,
    "start_time": "2021-12-15T21:08:29.118Z"
   },
   {
    "duration": 14,
    "start_time": "2021-12-15T21:08:29.166Z"
   },
   {
    "duration": 19,
    "start_time": "2021-12-15T21:08:29.181Z"
   },
   {
    "duration": 14,
    "start_time": "2021-12-15T21:08:29.202Z"
   },
   {
    "duration": 9,
    "start_time": "2021-12-15T21:08:29.218Z"
   },
   {
    "duration": 37,
    "start_time": "2021-12-15T21:08:29.229Z"
   },
   {
    "duration": 14,
    "start_time": "2021-12-15T21:08:29.268Z"
   },
   {
    "duration": 14,
    "start_time": "2021-12-15T21:08:29.284Z"
   },
   {
    "duration": 17,
    "start_time": "2021-12-15T21:08:29.300Z"
   }
  ],
  "colab": {
   "collapsed_sections": [
    "E0vqbgi9ay0H",
    "VUC88oWjTJw2",
    "atZAxtq4_Zcu"
   ],
   "name": "EmptyFinalProject.ipynb\"",
   "provenance": []
  },
  "kernelspec": {
   "display_name": "Python 3",
   "language": "python",
   "name": "python3"
  },
  "language_info": {
   "codemirror_mode": {
    "name": "ipython",
    "version": 3
   },
   "file_extension": ".py",
   "mimetype": "text/x-python",
   "name": "python",
   "nbconvert_exporter": "python",
   "pygments_lexer": "ipython3",
   "version": "3.8.8"
  },
  "toc": {
   "base_numbering": 1,
   "nav_menu": {},
   "number_sections": true,
   "sideBar": true,
   "skip_h1_title": true,
   "title_cell": "Table of Contents",
   "title_sidebar": "Contents",
   "toc_cell": false,
   "toc_position": {
    "height": "calc(100% - 180px)",
    "left": "10px",
    "top": "150px",
    "width": "292px"
   },
   "toc_section_display": true,
   "toc_window_display": true
  }
 },
 "nbformat": 4,
 "nbformat_minor": 4
}
